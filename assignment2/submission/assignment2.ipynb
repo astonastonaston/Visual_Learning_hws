{
 "cells": [
  {
   "cell_type": "markdown",
   "metadata": {
    "id": "MVV55guoIH57",
    "tags": [
     "pdf-title"
    ]
   },
   "source": [
    "# Assignment 2: Convolutional Neural Networks with Pytorch\n",
    "\n",
    "For this assignment, we're going to use one of most popular deep learning frameworks: PyTorch. And build our way through Convolutional Neural Networks."
   ]
  },
  {
   "cell_type": "markdown",
   "metadata": {
    "id": "fzKdxzonIH58",
    "tags": [
     "pdf-ignore"
    ]
   },
   "source": [
    "### What is PyTorch?\n",
    "\n",
    "PyTorch is a system for executing dynamic computational graphs over Tensor objects that behave similarly as numpy ndarray. It comes with a powerful automatic differentiation engine that removes the need for manual back-propagation.\n",
    "\n",
    "### Why?\n",
    "\n",
    "* Our code will now run on GPUs! Much faster training. When using a framework like PyTorch or TensorFlow you can harness the power of the GPU for your own custom neural network architectures without having to write CUDA code directly (which is beyond the scope of this class).\n",
    "* We want you to be ready to use one of these frameworks for your project so you can experiment more efficiently than if you were writing every feature you want to use by hand.\n",
    "* We want you to stand on the shoulders of giants! TensorFlow and PyTorch are both excellent frameworks that will make your lives a lot easier, and now that you understand their guts, you are free to use them :)\n",
    "* We want you to be exposed to the sort of deep learning code you might run into in academia or industry.\n",
    "\n",
    "### PyTorch versions\n",
    "This notebook assumes that you are using **PyTorch version >=1.0**. In some of the previous versions (e.g. before 0.4), Tensors had to be wrapped in Variable objects to be used in autograd; however Variables have now been deprecated. In addition 1.0 also separates a Tensor's datatype from its device, and uses numpy-style factories for constructing Tensors rather than directly invoking Tensor constructors.\n",
    "\n",
    "**If you are running on datahub, you shouldn't face any problem.**"
   ]
  },
  {
   "cell_type": "markdown",
   "metadata": {
    "id": "Ecn0fvRxIH59",
    "tags": [
     "pdf-ignore"
    ]
   },
   "source": [
    "You can also find the detailed PyTorch [API doc](http://pytorch.org/docs/stable/index.html) here. If you have other questions that are not addressed by the API docs, the [PyTorch forum](https://discuss.pytorch.org/) is a much better place to ask than StackOverflow.\n",
    "\n",
    "\n",
    "# Table of Contents\n",
    "\n",
    "This assignment has 5 parts. You will learn PyTorch on **three different levels of abstraction**, which will help you understand it better and prepare you for the final project.\n",
    "\n",
    "1. Part I, Preparation: we will use CIFAR-100 dataset.\n",
    "2. Part II, Barebones PyTorch: **Abstraction level 1**, we will work directly with the lowest-level PyTorch Tensors.\n",
    "3. Part III, PyTorch Module API: **Abstraction level 2**, we will use `nn.Module` to define arbitrary neural network architecture.\n",
    "4. Part IV, PyTorch Sequential API: **Abstraction level 3**, we will use `nn.Sequential` to define a linear feed-forward network very conveniently.\n",
    "5. Part V. ResNet10 Implementation: we will implement ResNet10 from scratch given the architecture details\n",
    "5. Part VI, CIFAR-100 open-ended challenge: please implement your own network to get as high accuracy as possible on CIFAR-100. You can experiment with any layer, optimizer, hyperparameters or other advanced features.\n",
    "\n",
    "Here is a table of comparison:\n",
    "\n",
    "| API           | Flexibility | Convenience |\n",
    "|---------------|-------------|-------------|\n",
    "| Barebone      | High        | Low         |\n",
    "| `nn.Module`     | High        | Medium      |\n",
    "| `nn.Sequential` | Low         | High        |"
   ]
  },
  {
   "cell_type": "markdown",
   "metadata": {
    "id": "jhOl4n-IIH59"
   },
   "source": [
    "# Part I. Preparation\n",
    "\n",
    "First, we load the CIFAR-100 dataset. This might take a couple minutes the first time you do it, but the files should stay cached after that."
   ]
  },
  {
   "cell_type": "code",
   "execution_count": 5,
   "metadata": {
    "id": "-P_a2PIiIH5-",
    "tags": [
     "pdf-ignore"
    ]
   },
   "outputs": [],
   "source": [
    "# Add official website of pytorch\n",
    "\n",
    "import torch\n",
    "import torch.nn as nn\n",
    "import torch.optim as optim\n",
    "from torch.utils.data import DataLoader\n",
    "from torch.utils.data import sampler\n",
    "\n",
    "import torchvision.datasets as dset\n",
    "import torchvision.transforms as T\n",
    "\n",
    "import numpy as np"
   ]
  },
  {
   "cell_type": "code",
   "execution_count": 6,
   "metadata": {
    "id": "KrEIOkjtIH5-",
    "tags": [
     "pdf-ignore"
    ]
   },
   "outputs": [
    {
     "name": "stdout",
     "output_type": "stream",
     "text": [
      "Files already downloaded and verified\n",
      "Files already downloaded and verified\n",
      "Files already downloaded and verified\n"
     ]
    }
   ],
   "source": [
    "NUM_TRAIN = 49000\n",
    "batch_size= 64\n",
    "\n",
    "# The torchvision.transforms package provides tools for preprocessing data\n",
    "# and for performing data augmentation; here we set up a transform to\n",
    "# preprocess the data by subtracting the mean RGB value and dividing by the\n",
    "# standard deviation of each RGB value; we've hardcoded the mean and std.\n",
    "\n",
    "#===========================================================================#\n",
    "# You should try changing the transform for the training data to include    #\n",
    "# data augmentation such as RandomCrop and HorizontalFlip                    #\n",
    "# when running the final part of the notebook where you have to achieve     #\n",
    "# as high accuracy as possible on CIFAR-100.                                #\n",
    "# Of course you will have to re-run this block for the effect to take place #\n",
    "#===========================================================================#\n",
    "train_transform = transform = T.Compose([\n",
    "                T.ToTensor(),\n",
    "                T.Normalize((0.5071, 0.4867, 0.4408), (0.2675, 0.2565, 0.2761))\n",
    "            ])\n",
    "\n",
    "# We set up a Dataset object for each split (train / val / test); Datasets load\n",
    "# training examples one at a time, so we wrap each Dataset in a DataLoader which\n",
    "# iterates through the Dataset and forms minibatches. We divide the CIFAR-100\n",
    "# training set into train and val sets by passing a Sampler object to the\n",
    "# DataLoader telling how it should sample from the underlying Dataset.\n",
    "cifar100_train = dset.CIFAR100('./datasets/cifar100', train=True, download=True,\n",
    "                             transform=train_transform)\n",
    "loader_train = DataLoader(cifar100_train, batch_size=batch_size, num_workers=2,\n",
    "                          sampler=sampler.SubsetRandomSampler(range(NUM_TRAIN))) # 49000 train data\n",
    "\n",
    "cifar100_val = dset.CIFAR100('./datasets/cifar100', train=True, download=True,\n",
    "                           transform=transform)\n",
    "loader_val = DataLoader(cifar100_val, batch_size=batch_size, num_workers=2,\n",
    "                        sampler=sampler.SubsetRandomSampler(range(NUM_TRAIN, 50000))) # 1000 val data\n",
    "\n",
    "cifar100_test = dset.CIFAR100('./datasets/cifar100', train=False, download=True,\n",
    "                            transform=transform)\n",
    "loader_test = DataLoader(cifar100_test, batch_size=batch_size, num_workers=2)"
   ]
  },
  {
   "cell_type": "markdown",
   "metadata": {
    "id": "l94Ub-RqIH5_",
    "tags": [
     "pdf-ignore"
    ]
   },
   "source": [
    "You have an option to **use GPU by setting the flag to True below** (recommended). It is not necessary to use GPU for this assignment. Note that if your computer does not have CUDA enabled, `torch.cuda.is_available()` will return False and this notebook will fallback to CPU mode.\n",
    "**You can run on GPU on datahub.**\n",
    "\n",
    "The global variables `dtype` and `device` will control the data types throughout this assignment."
   ]
  },
  {
   "cell_type": "code",
   "execution_count": 7,
   "metadata": {
    "id": "l8xRiTppIH5_",
    "tags": [
     "pdf-ignore-input"
    ]
   },
   "outputs": [
    {
     "name": "stdout",
     "output_type": "stream",
     "text": [
      "using device: cuda\n"
     ]
    }
   ],
   "source": [
    "USE_GPU = True\n",
    "num_class = 100\n",
    "dtype = torch.float32 # we will be using float throughout this tutorial\n",
    "\n",
    "if USE_GPU and torch.cuda.is_available():\n",
    "    device = torch.device('cuda')\n",
    "else:\n",
    "    device = torch.device('cpu')\n",
    "\n",
    "# Constant to control how frequently we print train loss\n",
    "print_every = 100\n",
    "\n",
    "print('using device:', device)"
   ]
  },
  {
   "cell_type": "markdown",
   "metadata": {
    "id": "jOEHxEqhIH6A"
   },
   "source": [
    "# Part II. Barebones PyTorch (10% of Grade)\n",
    "\n",
    "PyTorch ships with high-level APIs to help us define model architectures conveniently, which we will cover in Part II of this tutorial. In this section, we will start with the barebone PyTorch elements to understand the autograd engine better. After this exercise, you will come to appreciate the high-level model API more.\n",
    "\n",
    "We will start with a simple fully-connected ReLU network with two hidden layers and no biases for CIFAR-100 classification.\n",
    "This implementation computes the forward pass using operations on PyTorch Tensors, and uses PyTorch autograd to compute gradients. It is important that you understand every line, because you will write a harder version after the example.\n",
    "\n",
    "When we create a PyTorch Tensor with `requires_grad=True`, then operations involving that Tensor will not just compute values; they will also build up a computational graph in the background, allowing us to easily backpropagate through the graph to compute gradients of some Tensors with respect to a downstream loss. Concretely if x is a Tensor with `x.requires_grad == True` then after backpropagation `x.grad` will be another Tensor holding the gradient of x with respect to the scalar loss at the end."
   ]
  },
  {
   "cell_type": "markdown",
   "metadata": {
    "id": "NfdGeOmiIH6A",
    "tags": [
     "pdf-ignore"
    ]
   },
   "source": [
    "### PyTorch Tensors: Flatten Function\n",
    "A PyTorch Tensor is conceptionally similar to a numpy array: it is an n-dimensional grid of numbers, and like numpy PyTorch provides many functions to efficiently operate on Tensors. As a simple example, we provide a `flatten` function below which reshapes image data for use in a fully-connected neural network.\n",
    "\n",
    "Recall that image data is typically stored in a Tensor of shape N x C x H x W, where:\n",
    "\n",
    "* N is the number of datapoints\n",
    "* C is the number of channels\n",
    "* H is the height of the intermediate feature map in pixels\n",
    "* W is the height of the intermediate feature map in pixels\n",
    "\n",
    "This is the right way to represent the data when we are doing something like a 2D convolution, that needs spatial understanding of where the intermediate features are relative to each other. When we use fully connected affine layers to process the image, however, we want each datapoint to be represented by a single vector -- it's no longer useful to segregate the different channels, rows, and columns of the data. So, we use a \"flatten\" operation to collapse the `C x H x W` values per representation into a single long vector. The flatten function below first reads in the N, C, H, and W values from a given batch of data, and then returns a \"view\" of that data. \"View\" is analogous to numpy's \"reshape\" method: it reshapes x's dimensions to be N x ??, where ?? is allowed to be anything (in this case, it will be C x H x W, but we don't need to specify that explicitly)."
   ]
  },
  {
   "cell_type": "code",
   "execution_count": 8,
   "metadata": {
    "id": "RcbWs7FxIH6A",
    "outputId": "863ab097-1984-4d16-83e0-17869844cb23",
    "tags": [
     "pdf-ignore-input"
    ]
   },
   "outputs": [
    {
     "name": "stdout",
     "output_type": "stream",
     "text": [
      "Before flattening:  tensor([[[[ 0,  1],\n",
      "          [ 2,  3],\n",
      "          [ 4,  5]]],\n",
      "\n",
      "\n",
      "        [[[ 6,  7],\n",
      "          [ 8,  9],\n",
      "          [10, 11]]]])\n",
      "After flattening:  tensor([[ 0,  1,  2,  3,  4,  5],\n",
      "        [ 6,  7,  8,  9, 10, 11]])\n"
     ]
    }
   ],
   "source": [
    "def flatten(x):\n",
    "    N = x.shape[0] # read in N, C, H, W\n",
    "    return x.view(N, -1)  # \"flatten\" the C * H * W values into a single vector per image\n",
    "\n",
    "def test_flatten():\n",
    "    x = torch.arange(12).view(2, 1, 3, 2)\n",
    "    print('Before flattening: ', x)\n",
    "    print('After flattening: ', flatten(x))\n",
    "\n",
    "test_flatten()"
   ]
  },
  {
   "cell_type": "markdown",
   "metadata": {
    "id": "GTHHkngaIH6A",
    "tags": [
     "pdf-ignore"
    ]
   },
   "source": [
    "### Barebones PyTorch: Two-Layer Network\n",
    "\n",
    "Here we define a function `two_layer_fc` which performs the forward pass of a two-layer fully-connected ReLU network on a batch of image data. After defining the forward pass we check that it doesn't crash and that it produces outputs of the right shape by running zeros through the network.\n",
    "\n",
    "You don't have to write any code here, but it's important that you read and understand the implementation."
   ]
  },
  {
   "cell_type": "code",
   "execution_count": 9,
   "metadata": {
    "id": "qrhBYqTSIH6B",
    "outputId": "d1b9caa8-dce6-4fad-d998-5ef1b453bd95",
    "tags": [
     "pdf-ignore-input"
    ]
   },
   "outputs": [
    {
     "name": "stdout",
     "output_type": "stream",
     "text": [
      "torch.Size([64, 100])\n"
     ]
    }
   ],
   "source": [
    "import torch.nn.functional as F  # useful stateless functions\n",
    "\n",
    "def two_layer_fc(x, params):\n",
    "    \"\"\"\n",
    "    A fully-connected neural networks; the architecture is:\n",
    "    NN is fully connected -> ReLU -> fully connected layer.\n",
    "    Note that this function only defines the forward pass;\n",
    "    PyTorch will take care of the backward pass for us.\n",
    "\n",
    "    The input to the network will be a minibatch of data, of shape\n",
    "    (N, d1, ..., dM) where d1 * ... * dM = D. The hidden layer will have H units, # minibatch -> the batch used for training\n",
    "    and the output layer will produce scores for C classes.\n",
    "\n",
    "    Inputs:\n",
    "    - x: A PyTorch Tensor of shape (N, d1, ..., dM) giving a minibatch of\n",
    "      input data.\n",
    "    - params: A list [w1, w2] of PyTorch Tensors giving weights for the network;\n",
    "      w1 has shape (D, H) and w2 has shape (H, C).\n",
    "\n",
    "    Returns:\n",
    "    - scores: A PyTorch Tensor of shape (N, C) giving classification scores for\n",
    "      the input data x.\n",
    "    \"\"\"\n",
    "    # first we flatten the image\n",
    "    x = flatten(x)  # shape: [batch_size, C x H x W]\n",
    "\n",
    "    w1, w2 = params\n",
    "\n",
    "    # Forward pass: compute predicted y using operations on Tensors. Since w1 and\n",
    "    # w2 have requires_grad=True, operations involving these Tensors will cause\n",
    "    # PyTorch to build a computational graph, allowing automatic computation of\n",
    "    # gradients. Since we are no longer implementing the backward pass by hand we\n",
    "    # don't need to keep references to intermediate values.\n",
    "    # you can also use `.clamp(min=0)`, equivalent to F.relu()\n",
    "    x = F.relu(x.mm(w1))\n",
    "    x = x.mm(w2)\n",
    "    return x\n",
    "\n",
    "\n",
    "def two_layer_fc_test():\n",
    "    hidden_layer_size = 42\n",
    "    x = torch.zeros((64, 50), dtype=dtype)  # minibatch size 64, feature dimension 50\n",
    "    w1 = torch.zeros((50, hidden_layer_size), dtype=dtype) # need require_grad_() to cast into tensor type with gradient\n",
    "    w2 = torch.zeros((hidden_layer_size, num_class), dtype=dtype)\n",
    "    scores = two_layer_fc(x, [w1, w2])\n",
    "    print(scores.size())  # you should see [64, 100]\n",
    "\n",
    "two_layer_fc_test()"
   ]
  },
  {
   "cell_type": "markdown",
   "metadata": {
    "id": "536gYgCnIH6B"
   },
   "source": [
    "### Barebones PyTorch: Three-Layer ConvNet\n",
    "\n",
    "Here you will complete the implementation of the function `three_layer_convnet`, which will perform the forward pass of a three-layer convolutional network. Like above, we can immediately test our implementation by passing zeros through the network. The network should have the following architecture:\n",
    "\n",
    "1. A convolutional layer (with bias) with `channel_1` filters, each with shape `KW1 x KH1`, and zero-padding of two\n",
    "2. ReLU nonlinearity\n",
    "3. A convolutional layer (with bias) with `channel_2` filters, each with shape `KW2 x KH2`, and zero-padding of one\n",
    "4. ReLU nonlinearity\n",
    "5. Fully-connected layer with bias, producing scores for C classes.\n",
    "\n",
    "Note that we have **no softmax activation** here after our fully-connected layer: this is because PyTorch's cross entropy loss performs a softmax activation for you, and by bundling that step in makes computation more efficient.\n",
    "\n",
    "**HINT**: For convolutions: https://pytorch.org/docs/stable/nn.functional.html#torch.nn.functional.conv2d; pay attention to the shapes of convolutional filters!"
   ]
  },
  {
   "cell_type": "code",
   "execution_count": 10,
   "metadata": {
    "id": "3kRMAVk3IH6B"
   },
   "outputs": [],
   "source": [
    "filters = torch.ones(8, 4, 3, 3)\n",
    "inputs = torch.ones(1, 4, 5, 5)\n",
    "b=F.conv2d(inputs, filters, padding=1)\n",
    "# b"
   ]
  },
  {
   "cell_type": "code",
   "execution_count": 11,
   "metadata": {
    "id": "Ri5SOt0MIH6C"
   },
   "outputs": [],
   "source": [
    "def three_layer_convnet(x, params):\n",
    "    \"\"\"\n",
    "    Performs the forward pass of a three-layer convolutional network with the\n",
    "    architecture defined above.\n",
    "\n",
    "    Inputs:\n",
    "    - x: A PyTorch Tensor of shape (N, 3, H, W) giving a minibatch of images\n",
    "    - params: A list of PyTorch Tensors giving the weights and biases for the\n",
    "      network; should contain the following:\n",
    "      - conv_w1: PyTorch Tensor of shape (channel_1, 3, KH1, KW1) giving weights\n",
    "        for the first convolutional layer\n",
    "      - conv_b1: PyTorch Tensor of shape (channel_1,) giving biases for the first\n",
    "        convolutional layer (outputting with shape (N, channel_1, H, W))\n",
    "      - conv_w2: PyTorch Tensor of shape (channel_2, channel_1, KH2, KW2) giving\n",
    "        weights for the second convolutional layer\n",
    "      - conv_b2: PyTorch Tensor of shape (channel_2,) giving biases for the second\n",
    "        convolutional layer. Then we get (N, channel_2, H, W)\n",
    "      - fc_w: PyTorch Tensor giving weights for the fully-connected layer. Can you\n",
    "        figure out what the shape should be? (channel_2* H* W, C)\n",
    "      - fc_b: PyTorch Tensor giving biases for the fully-connected layer. Can you\n",
    "        figure out what the shape should be? (C,)\n",
    "\n",
    "    Returns:\n",
    "    - scores: PyTorch Tensor of shape (N, C) giving classification scores for x\n",
    "    \"\"\"\n",
    "    conv_w1, conv_b1, conv_w2, conv_b2, fc_w, fc_b = params\n",
    "    scores = None\n",
    "    ################################################################################\n",
    "    # TODO: Implement the forward pass for the three-layer ConvNet.                #\n",
    "    ################################################################################\n",
    "    # *****START OF YOUR CODE (DO NOT DELETE/MODIFY THIS LINE)*****\n",
    "    x = F.conv2d(x, weight=conv_w1, bias=conv_b1, padding=2)\n",
    "    x = F.relu(x)\n",
    "    x = F.conv2d(x, weight=conv_w2, bias=conv_b2, padding=1)\n",
    "    x = F.relu(x)\n",
    "    x = flatten(x)\n",
    "    # print(x.shape, fc_w.shape, fc_b.shape)\n",
    "    scores = torch.matmul(x, fc_w) + fc_b\n",
    "    pass\n",
    "\n",
    "    # *****END OF YOUR CODE (DO NOT DELETE/MODIFY THIS LINE)*****\n",
    "    ################################################################################\n",
    "    #                                 END OF YOUR CODE                             #\n",
    "    ################################################################################\n",
    "    return scores"
   ]
  },
  {
   "cell_type": "markdown",
   "metadata": {
    "id": "UiGoTkh4IH6C"
   },
   "source": [
    "After defining the forward pass of the ConvNet above, run the following cell to test your implementation.\n",
    "\n",
    "When you run this function, scores should have shape (64, 100)."
   ]
  },
  {
   "cell_type": "code",
   "execution_count": 12,
   "metadata": {
    "id": "xZmhMa7eIH6C",
    "outputId": "c2661721-3c2d-4826-adea-df80debeb9cf",
    "tags": [
     "pdf-ignore-input"
    ]
   },
   "outputs": [
    {
     "name": "stdout",
     "output_type": "stream",
     "text": [
      "torch.Size([64, 100])\n"
     ]
    }
   ],
   "source": [
    "def three_layer_convnet_test():\n",
    "    x = torch.zeros((64, 3, 32, 32), dtype=dtype)  # minibatch size 64, image size [3, 32, 32]\n",
    "\n",
    "    conv_w1 = torch.zeros((6, 3, 5, 5), dtype=dtype)  # [out_channel, in_channel, kernel_H, kernel_W]\n",
    "    conv_b1 = torch.zeros((6,))  # out_channel\n",
    "    conv_w2 = torch.zeros((9, 6, 3, 3), dtype=dtype)  # [out_channel, in_channel, kernel_H, kernel_W]\n",
    "    conv_b2 = torch.zeros((9,))  # out_channel\n",
    "\n",
    "    # you must calculate the shape of the tensor after two conv layers, before the fully-connected layer\n",
    "    fc_w = torch.zeros((9 * 32 * 32, num_class))\n",
    "    fc_b = torch.zeros(num_class)\n",
    "\n",
    "    scores = three_layer_convnet(x, [conv_w1, conv_b1, conv_w2, conv_b2, fc_w, fc_b])\n",
    "    print(scores.size())  # you should see [64, 100]\n",
    "three_layer_convnet_test()"
   ]
  },
  {
   "cell_type": "markdown",
   "metadata": {
    "id": "wpcQ-zb2IH6C"
   },
   "source": [
    "### Barebones PyTorch: Initialization\n",
    "Let's write a couple utility methods to initialize the weight matrices for our models.\n",
    "\n",
    "- `random_weight(shape)` initializes a weight tensor with the Kaiming normalization method.\n",
    "- `zero_weight(shape)` initializes a weight tensor with all zeros. Useful for instantiating bias parameters.\n",
    "\n",
    "The `random_weight` function uses the Kaiming normal initialization method, described in:\n",
    "\n",
    "He et al, *Delving Deep into Rectifiers: Surpassing Human-Level Performance on ImageNet Classification*, ICCV 2015, https://arxiv.org/abs/1502.01852"
   ]
  },
  {
   "cell_type": "code",
   "execution_count": 13,
   "metadata": {
    "id": "mu3YWrl4IH6C",
    "outputId": "4ff19131-4568-4fbb-e72e-e80df55a7401",
    "tags": [
     "pdf-ignore-input"
    ]
   },
   "outputs": [
    {
     "data": {
      "text/plain": [
       "tensor([[-0.7134,  0.4247,  0.1595,  0.8472,  1.2556],\n",
       "        [ 0.1591,  0.9924, -0.8986,  1.8867,  1.1273],\n",
       "        [ 0.5633,  0.5287,  0.8450, -1.7805, -0.8970]], device='cuda:0',\n",
       "       requires_grad=True)"
      ]
     },
     "execution_count": 13,
     "metadata": {},
     "output_type": "execute_result"
    }
   ],
   "source": [
    "def random_weight(shape):\n",
    "    \"\"\"\n",
    "    Create random Tensors for weights; setting requires_grad=True means that we\n",
    "    want to compute gradients for these Tensors during the backward pass.\n",
    "    We use Kaiming normalization: sqrt(2 / fan_in)\n",
    "    \"\"\"\n",
    "    if len(shape) == 2:  # FC weight\n",
    "        fan_in = shape[0]\n",
    "    else:\n",
    "        fan_in = np.prod(shape[1:]) # conv weight [out_channel, in_channel, kH, kW]\n",
    "    # randn is standard normal distribution generator.\n",
    "    w = torch.randn(shape, device=device, dtype=dtype) * np.sqrt(2. / fan_in)\n",
    "    w.requires_grad = True\n",
    "    return w\n",
    "\n",
    "def zero_weight(shape):\n",
    "    return torch.zeros(shape, device=device, dtype=dtype, requires_grad=True)\n",
    "\n",
    "# create a weight of shape [3 x 5]\n",
    "# you should see the type `torch.cuda.FloatTensor` if you use GPU.\n",
    "# Otherwise it should be `torch.FloatTensor`\n",
    "random_weight((3, 5))"
   ]
  },
  {
   "cell_type": "markdown",
   "metadata": {
    "id": "eoGxq014IH6D"
   },
   "source": [
    "### Barebones PyTorch: Check Accuracy\n",
    "When training the model we will use the following function to check the accuracy of our model on the training or validation sets.\n",
    "\n",
    "When checking accuracy we don't need to compute any gradients; as a result we don't need PyTorch to build a computational graph for us when we compute scores. To prevent a graph from being built we scope our computation under a `torch.no_grad()` context manager."
   ]
  },
  {
   "cell_type": "code",
   "execution_count": 14,
   "metadata": {
    "id": "jIHqC9WrIH6D",
    "tags": [
     "pdf-ignore-input"
    ]
   },
   "outputs": [],
   "source": [
    "def check_accuracy_part2(loader, model_fn, params):\n",
    "    \"\"\"\n",
    "    Check the accuracy of a classification model.\n",
    "\n",
    "    Inputs:\n",
    "    - loader: A DataLoader for the data split we want to check\n",
    "    - model_fn: A function that performs the forward pass of the model,\n",
    "      with the signature scores = model_fn(x, params)\n",
    "    - params: List of PyTorch Tensors giving parameters of the model\n",
    "\n",
    "    Returns: The accuracy of the model\n",
    "    \"\"\"\n",
    "    split = 'val' if loader.dataset.train else 'test'\n",
    "    print('Checking accuracy on the %s set' % split)\n",
    "    num_correct, num_samples = 0, 0\n",
    "    with torch.no_grad():\n",
    "        for x, y in loader:\n",
    "            x = x.to(device=device, dtype=dtype)  # move to device, e.g. GPU\n",
    "            y = y.to(device=device, dtype=torch.int64)\n",
    "            scores = model_fn(x, params)\n",
    "            _, preds = scores.max(1)\n",
    "            num_correct += (preds == y).sum()\n",
    "            num_samples += preds.size(0)\n",
    "        acc = float(num_correct) / num_samples\n",
    "        print('Got %d / %d correct (%.2f%%)' % (num_correct, num_samples, 100 * acc))\n",
    "    return acc"
   ]
  },
  {
   "cell_type": "markdown",
   "metadata": {
    "id": "zPScLxYEIH6D"
   },
   "source": [
    "### BareBones PyTorch: Training Loop\n",
    "We can now set up a basic training loop to train our network. We will train the model using stochastic gradient descent without momentum. We will use `torch.functional.cross_entropy` to compute the loss; you can [read about it here](https://pytorch.org/docs/stable/nn.functional.html#torch.nn.functional.cross_entropy).\n",
    "\n",
    "The training loop takes as input the neural network function, a list of initialized parameters (`[w1, w2]` in our example), and learning rate."
   ]
  },
  {
   "cell_type": "code",
   "execution_count": 15,
   "metadata": {
    "id": "b2zEkdSZIH6D",
    "tags": [
     "pdf-ignore-input"
    ]
   },
   "outputs": [],
   "source": [
    "def train_part2(model_fn, params, learning_rate):\n",
    "    \"\"\"\n",
    "    Train a model on CIFAR-10.\n",
    "\n",
    "    Inputs:\n",
    "    - model_fn: A Python function that performs the forward pass of the model.\n",
    "      It should have the signature scores = model_fn(x, params) where x is a\n",
    "      PyTorch Tensor of image data, params is a list of PyTorch Tensors giving\n",
    "      model weights, and scores is a PyTorch Tensor of shape (N, C) giving\n",
    "      scores for the elements in x.\n",
    "    - params: List of PyTorch Tensors giving weights for the model\n",
    "    - learning_rate: Python scalar giving the learning rate to use for SGD\n",
    "\n",
    "    Returns: The accuracy of the model\n",
    "    \"\"\"\n",
    "    for t, (x, y) in enumerate(loader_train):\n",
    "        # Move the data to the proper device (GPU or CPU)\n",
    "        x = x.to(device=device, dtype=dtype)\n",
    "        y = y.to(device=device, dtype=torch.long)\n",
    "\n",
    "        # Forward pass: compute scores and loss\n",
    "        scores = model_fn(x, params)\n",
    "        loss = F.cross_entropy(scores, y)\n",
    "\n",
    "        # Backward pass: PyTorch figures out which Tensors in the computational\n",
    "        # graph has requires_grad=True and uses backpropagation to compute the\n",
    "        # gradient of the loss with respect to these Tensors, and stores the\n",
    "        # gradients in the .grad attribute of each Tensor.\n",
    "        loss.backward()\n",
    "\n",
    "        # Update parameters. We don't want to backpropagate through the\n",
    "        # parameter updates, so we scope the updates under a torch.no_grad()\n",
    "        # context manager to prevent a computational graph from being built.\n",
    "        with torch.no_grad():\n",
    "            for w in params:\n",
    "                w -= learning_rate * w.grad\n",
    "\n",
    "                # Manually zero the gradients after running the backward pass\n",
    "                w.grad.zero_()\n",
    "\n",
    "        if (t + 1) % print_every == 0:\n",
    "            print('Iteration %d, loss = %.4f' % (t + 1, loss.item()))\n",
    "            check_accuracy_part2(loader_val, model_fn, params)\n",
    "            print()\n",
    "    return check_accuracy_part2(loader_val, model_fn, params)"
   ]
  },
  {
   "cell_type": "markdown",
   "metadata": {
    "id": "Bj5Vz77QIH6D"
   },
   "source": [
    "### BareBones PyTorch: Train a Two-Layer Network\n",
    "Now we are ready to run the training loop. We need to explicitly allocate tensors for the fully connected weights, `w1` and `w2`.\n",
    "\n",
    "Each minibatch of CIFAR has 64 examples, so the tensor shape is `[64, 3, 32, 32]`.\n",
    "\n",
    "After flattening, `x` shape should be `[64, 3 * 32 * 32]`. This will be the size of the first dimension of `w1`.\n",
    "The second dimension of `w1` is the hidden layer size, which will also be the first dimension of `w2`.\n",
    "\n",
    "Finally, the output of the network is a 100-dimensional vector that represents the probability distribution over 100 classes.\n",
    "\n",
    "You don't need to tune any hyperparameters but you should see accuracies above 15% after training for one epoch."
   ]
  },
  {
   "cell_type": "code",
   "execution_count": 16,
   "metadata": {
    "id": "sF37kaRRIH6D",
    "outputId": "490286a7-abec-44e8-f387-49d584071bf7"
   },
   "outputs": [
    {
     "name": "stdout",
     "output_type": "stream",
     "text": [
      "Iteration 100, loss = 4.1599\n",
      "Checking accuracy on the val set\n",
      "Got 73 / 1000 correct (7.30%)\n",
      "\n",
      "Iteration 200, loss = 3.8234\n",
      "Checking accuracy on the val set\n",
      "Got 102 / 1000 correct (10.20%)\n",
      "\n",
      "Iteration 300, loss = 3.9627\n",
      "Checking accuracy on the val set\n",
      "Got 113 / 1000 correct (11.30%)\n",
      "\n",
      "Iteration 400, loss = 4.0484\n",
      "Checking accuracy on the val set\n",
      "Got 129 / 1000 correct (12.90%)\n",
      "\n",
      "Iteration 500, loss = 3.2232\n",
      "Checking accuracy on the val set\n",
      "Got 146 / 1000 correct (14.60%)\n",
      "\n",
      "Iteration 600, loss = 3.7111\n",
      "Checking accuracy on the val set\n",
      "Got 151 / 1000 correct (15.10%)\n",
      "\n",
      "Iteration 700, loss = 3.5815\n",
      "Checking accuracy on the val set\n",
      "Got 152 / 1000 correct (15.20%)\n",
      "\n",
      "Checking accuracy on the val set\n",
      "Got 169 / 1000 correct (16.90%)\n"
     ]
    },
    {
     "data": {
      "text/plain": [
       "0.169"
      ]
     },
     "execution_count": 16,
     "metadata": {},
     "output_type": "execute_result"
    }
   ],
   "source": [
    "hidden_layer_size = 4000\n",
    "learning_rate = 1e-2\n",
    "\n",
    "w1 = random_weight((3 * 32 * 32, hidden_layer_size)) # fc layer-1 weight (D (C*H*W), H)\n",
    "w2 = random_weight((hidden_layer_size, num_class)) # fc layer-2 weight (H, C)\n",
    "\n",
    "train_part2(two_layer_fc, [w1, w2], learning_rate)"
   ]
  },
  {
   "cell_type": "markdown",
   "metadata": {
    "id": "PlIrnHcsIH6E"
   },
   "source": [
    "### BareBones PyTorch: Training a ConvNet\n",
    "\n",
    "In the below cell you should use the functions defined above to train a three-layer convolutional network on CIFAR. The network should have the following architecture:\n",
    "\n",
    "1. Convolutional layer (with bias) with 32 5x5 filters, with zero-padding of 2\n",
    "2. ReLU\n",
    "3. Convolutional layer (with bias) with 16 3x3 filters, with zero-padding of 1\n",
    "4. ReLU\n",
    "5. Fully-connected layer (with bias) to compute scores for 100 classes\n",
    "\n",
    "You should initialize your weight matrices using the `random_weight` function defined above, and you should initialize your bias vectors using the `zero_weight` function above.\n",
    "\n",
    "You don't need to tune any hyperparameters, but if everything works correctly you should achieve an accuracy above **12% after one epoch**."
   ]
  },
  {
   "cell_type": "code",
   "execution_count": 17,
   "metadata": {
    "id": "N2ML81GmIH6E",
    "outputId": "ab42bbf6-6cac-41d6-83c0-ab64efd69e77"
   },
   "outputs": [
    {
     "name": "stdout",
     "output_type": "stream",
     "text": [
      "Iteration 100, loss = 4.2168\n",
      "Checking accuracy on the val set\n",
      "Got 63 / 1000 correct (6.30%)\n",
      "\n",
      "Iteration 200, loss = 4.0626\n",
      "Checking accuracy on the val set\n",
      "Got 88 / 1000 correct (8.80%)\n",
      "\n",
      "Iteration 300, loss = 4.2101\n",
      "Checking accuracy on the val set\n",
      "Got 113 / 1000 correct (11.30%)\n",
      "\n",
      "Iteration 400, loss = 3.8881\n",
      "Checking accuracy on the val set\n",
      "Got 115 / 1000 correct (11.50%)\n",
      "\n",
      "Iteration 500, loss = 3.9755\n",
      "Checking accuracy on the val set\n",
      "Got 126 / 1000 correct (12.60%)\n",
      "\n",
      "Iteration 600, loss = 3.7519\n",
      "Checking accuracy on the val set\n",
      "Got 135 / 1000 correct (13.50%)\n",
      "\n",
      "Iteration 700, loss = 3.9760\n",
      "Checking accuracy on the val set\n",
      "Got 145 / 1000 correct (14.50%)\n",
      "\n",
      "Checking accuracy on the val set\n",
      "Got 135 / 1000 correct (13.50%)\n"
     ]
    },
    {
     "data": {
      "text/plain": [
       "0.135"
      ]
     },
     "execution_count": 17,
     "metadata": {},
     "output_type": "execute_result"
    }
   ],
   "source": [
    "learning_rate = 3e-3\n",
    "\n",
    "channel_1 = 32\n",
    "channel_2 = 16\n",
    "\n",
    "conv_w1 = None\n",
    "conv_b1 = None\n",
    "conv_w2 = None\n",
    "conv_b2 = None\n",
    "fc_w = None\n",
    "fc_b = None\n",
    "\n",
    "################################################################################\n",
    "# TODO: Initialize the parameters of a three-layer ConvNet.                    #\n",
    "################################################################################\n",
    "# *****START OF YOUR CODE (DO NOT DELETE/MODIFY THIS LINE)*****\n",
    "H, W, C = 32, 32, 100\n",
    "conv_w1 = random_weight((channel_1, 3, 5, 5))\n",
    "conv_b1 = zero_weight((channel_1))\n",
    "conv_w2 = random_weight((channel_2, channel_1, 3, 3))\n",
    "conv_b2 = zero_weight((channel_2))\n",
    "fc_w = random_weight((channel_2*H*W, C))\n",
    "fc_b = zero_weight((C))\n",
    "\n",
    "# print(conv_w1, conv_b1)\n",
    "# print(conv_w2, conv_b2)\n",
    "# *****END OF YOUR CODE (DO NOT DELETE/MODIFY THIS LINE)*****\n",
    "################################################################################\n",
    "#                                 END OF YOUR CODE                             #\n",
    "################################################################################\n",
    "\n",
    "params = [conv_w1, conv_b1, conv_w2, conv_b2, fc_w, fc_b]\n",
    "train_part2(three_layer_convnet, params, learning_rate)"
   ]
  },
  {
   "cell_type": "markdown",
   "metadata": {
    "id": "juGGLTtXIH6E"
   },
   "source": [
    "# Part III. PyTorch Module API (10% of Grade)\n",
    "\n",
    "Barebone PyTorch requires that we track all the parameter tensors by hand. This is fine for small networks with a few tensors, but it would be extremely inconvenient and error-prone to track tens or hundreds of tensors in larger networks.\n",
    "\n",
    "PyTorch provides the `nn.Module` API for you to define arbitrary network architectures, while tracking every learnable parameters for you. In Part II, we implemented SGD ourselves. PyTorch also provides the `torch.optim` package that implements all the common optimizers, such as RMSProp, Adagrad, and Adam. It even supports approximate second-order methods like L-BFGS! You can refer to the [doc](http://pytorch.org/docs/master/optim.html) for the exact specifications of each optimizer.\n",
    "\n",
    "To use the Module API, follow the steps below:\n",
    "\n",
    "1. Subclass `nn.Module`. Give your network class an intuitive name like `TwoLayerFC`.\n",
    "\n",
    "2. In the constructor `__init__()`, define all the layers you need as class attributes. Layer objects like `nn.Linear` and `nn.Conv2d` are themselves `nn.Module` subclasses and contain learnable parameters, so that you don't have to instantiate the raw tensors yourself. `nn.Module` will track these internal parameters for you. Refer to the [doc](http://pytorch.org/docs/master/nn.html) to learn more about the dozens of builtin layers. **Warning**: don't forget to call the `super().__init__()` first!\n",
    "\n",
    "3. In the `forward()` method, define the *connectivity* of your network. You should use the attributes defined in `__init__` as function calls that take tensor as input and output the \"transformed\" tensor. Do *not* create any new layers with learnable parameters in `forward()`! All of them must be declared upfront in `__init__`.\n",
    "\n",
    "After you define your Module subclass, you can instantiate it as an object and call it just like the NN forward function in part II.\n",
    "\n",
    "### Module API: Two-Layer Network\n",
    "Here is a concrete example of a 2-layer fully connected network:"
   ]
  },
  {
   "cell_type": "code",
   "execution_count": 18,
   "metadata": {
    "id": "mQ1HF_J9IH6E",
    "outputId": "46eb5942-3f03-4bd4-874a-c4cca8b209b6"
   },
   "outputs": [
    {
     "name": "stdout",
     "output_type": "stream",
     "text": [
      "torch.Size([64, 100])\n"
     ]
    }
   ],
   "source": [
    "class TwoLayerFC(nn.Module):\n",
    "    def __init__(self, input_size, hidden_size, num_classes):\n",
    "        super().__init__()\n",
    "        # assign layer objects to class attributes\n",
    "        self.fc1 = nn.Linear(input_size, hidden_size)\n",
    "        # nn.init package contains convenient initialization methods\n",
    "        # http://pytorch.org/docs/master/nn.html#torch-nn-init\n",
    "        nn.init.kaiming_normal_(self.fc1.weight)\n",
    "        self.fc2 = nn.Linear(hidden_size, num_classes)\n",
    "        nn.init.kaiming_normal_(self.fc2.weight)\n",
    "\n",
    "    def forward(self, x):\n",
    "        # forward always defines connectivity\n",
    "        x = flatten(x)\n",
    "        scores = self.fc2(F.relu(self.fc1(x)))\n",
    "        return scores\n",
    "\n",
    "def test_TwoLayerFC():\n",
    "    input_size = 50\n",
    "    x = torch.zeros((64, input_size), dtype=dtype)  # minibatch size 64, feature dimension 50\n",
    "    model = TwoLayerFC(input_size, 42, num_class)\n",
    "    scores = model(x)\n",
    "    print(scores.size())  # you should see [64, 100]\n",
    "test_TwoLayerFC()"
   ]
  },
  {
   "cell_type": "markdown",
   "metadata": {
    "id": "bCszwn_4IH6F"
   },
   "source": [
    "### Module API: Three-Layer ConvNet\n",
    "It's your turn to implement a 3-layer ConvNet followed by a fully connected layer. The network architecture should be the same as in Part II:\n",
    "\n",
    "1. Convolutional layer with `channel_1` 5x5 filters with zero-padding of 2\n",
    "2. ReLU\n",
    "3. Convolutional layer with `channel_2` 3x3 filters with zero-padding of 1\n",
    "4. ReLU\n",
    "5. Fully-connected layer to `num_classes` classes\n",
    "\n",
    "You should initialize the weight matrices of the model using the Kaiming normal initialization method.\n",
    "\n",
    "**HINT**: http://pytorch.org/docs/stable/nn.html#conv2d\n",
    "\n",
    "After you implement the three-layer ConvNet, the `test_ThreeLayerConvNet` function will run your implementation; it should print `(64, 10)` for the shape of the output scores."
   ]
  },
  {
   "cell_type": "code",
   "execution_count": 19,
   "metadata": {
    "id": "znDCwb-sIH6F",
    "outputId": "0f4f45ba-0edc-4709-ad5c-3a5ad1bfe225"
   },
   "outputs": [
    {
     "name": "stdout",
     "output_type": "stream",
     "text": [
      "torch.Size([64, 100])\n"
     ]
    }
   ],
   "source": [
    "class ThreeLayerConvNet(nn.Module):\n",
    "    def __init__(self, in_channel, channel_1, channel_2, num_classes):\n",
    "        super().__init__()\n",
    "\n",
    "        self.conv_1 = nn.Conv2d(in_channel, channel_1, (5,5), padding=2)\n",
    "        nn.init.kaiming_normal_(self.conv_1.weight)\n",
    "        self.conv_2 = nn.Conv2d(channel_1, channel_2, (3,3), padding=1)\n",
    "        nn.init.kaiming_normal_(self.conv_2.weight)\n",
    "\n",
    "        self.fc1 = nn.Linear(65536, num_classes)\n",
    "        self.relu = nn.ReLU(inplace=True)\n",
    "\n",
    "\n",
    "\n",
    "    def forward(self, x):\n",
    "        scores = None\n",
    "        ########################################################################\n",
    "        # TODO: Implement the forward function for a 3-layer ConvNet. you      #\n",
    "        # should use the layers you defined in __init__ and specify the        #\n",
    "        # connectivity of those layers in forward()                            #\n",
    "        ########################################################################\n",
    "        # *****START OF YOUR CODE (DO NOT DELETE/MODIFY THIS LINE)*****\n",
    "        x = self.relu(self.conv_1(x))\n",
    "        x = self.relu(self.conv_2(x))\n",
    "        x = flatten(x)\n",
    "        scores = self.fc1(x)\n",
    "        # *****END OF YOUR CODE (DO NOT DELETE/MODIFY THIS LINE)*****\n",
    "        ########################################################################\n",
    "        #                             END OF YOUR CODE                         #\n",
    "        ########################################################################\n",
    "        return scores\n",
    "\n",
    "\n",
    "def test_ThreeLayerConvNet():\n",
    "    x = torch.zeros((64, 3, 32, 32), dtype=dtype)  # minibatch size 64, image size [3, 32, 32]\n",
    "    model = ThreeLayerConvNet(in_channel=3, channel_1=32, channel_2=64, num_classes=num_class)\n",
    "    scores = model(x)\n",
    "    print(scores.size())  # you should see [64, 100]\n",
    "test_ThreeLayerConvNet()"
   ]
  },
  {
   "cell_type": "markdown",
   "metadata": {
    "id": "jvMOa3HdIH6F"
   },
   "source": [
    "### Module API: Check Accuracy\n",
    "Given the validation or test set, we can check the classification accuracy of a neural network.\n",
    "\n",
    "This version is slightly different from the one in part II. You don't manually pass in the parameters anymore."
   ]
  },
  {
   "cell_type": "code",
   "execution_count": 20,
   "metadata": {
    "id": "PRcqqfk6IH6F"
   },
   "outputs": [],
   "source": [
    "def check_accuracy_part34(loader, model):\n",
    "    if loader.dataset.train:\n",
    "        print('Checking accuracy on validation set')\n",
    "    else:\n",
    "        print('Checking accuracy on test set')\n",
    "    num_correct = 0\n",
    "    num_samples = 0\n",
    "    model.eval()  # set model to evaluation mode\n",
    "    with torch.no_grad():\n",
    "        for x, y in loader:\n",
    "            x = x.to(device=device, dtype=dtype)  # move to device, e.g. GPU\n",
    "            y = y.to(device=device, dtype=torch.long)\n",
    "            scores = model(x)\n",
    "            _, preds = scores.max(1)\n",
    "            num_correct += (preds == y).sum()\n",
    "            num_samples += preds.size(0)\n",
    "        acc = float(num_correct) / num_samples\n",
    "        print('Got %d / %d correct (%.2f)' % (num_correct, num_samples, 100 * acc))\n",
    "    return acc"
   ]
  },
  {
   "cell_type": "markdown",
   "metadata": {
    "id": "zqhz70VkIH6G"
   },
   "source": [
    "### Module API: Training Loop\n",
    "We also use a slightly different training loop. Rather than updating the values of the weights ourselves, we use an Optimizer object from the `torch.optim` package, which abstract the notion of an optimization algorithm and provides implementations of most of the algorithms commonly used to optimize neural networks."
   ]
  },
  {
   "cell_type": "code",
   "execution_count": 21,
   "metadata": {
    "id": "iXe0Ha_DIH6G"
   },
   "outputs": [],
   "source": [
    "def train_part34(model, optimizer, epochs=1):\n",
    "    \"\"\"\n",
    "    Train a model on CIFAR-10 using the PyTorch Module API.\n",
    "\n",
    "    Inputs:\n",
    "    - model: A PyTorch Module giving the model to train.\n",
    "    - optimizer: An Optimizer object we will use to train the model\n",
    "    - epochs: (Optional) A Python integer giving the number of epochs to train for\n",
    "\n",
    "    Returns: The accuracy of the model\n",
    "    \"\"\"\n",
    "    model = model.to(device=device)  # move the model parameters to CPU/GPU\n",
    "    for e in range(epochs):\n",
    "        for t, (x, y) in enumerate(loader_train):\n",
    "            model.train()  # put model to training mode\n",
    "            x = x.to(device=device, dtype=dtype)  # move to device, e.g. GPU\n",
    "            y = y.to(device=device, dtype=torch.long)\n",
    "\n",
    "            scores = model(x)\n",
    "            loss = F.cross_entropy(scores, y)\n",
    "\n",
    "            # Zero out all of the gradients for the variables which the optimizer\n",
    "            # will update.\n",
    "            optimizer.zero_grad()\n",
    "\n",
    "            # This is the backwards pass: compute the gradient of the loss with\n",
    "            # respect to each  parameter of the model.\n",
    "            loss.backward()\n",
    "\n",
    "            # Actually update the parameters of the model using the gradients\n",
    "            # computed by the backwards pass.\n",
    "            optimizer.step()\n",
    "\n",
    "            if (t + 1) % print_every == 0:\n",
    "                print('Epoch %d, Iteration %d, loss = %.4f' % (e, t + 1, loss.item()))\n",
    "                check_accuracy_part34(loader_val, model)\n",
    "                print()\n",
    "    return check_accuracy_part34(loader_val, model)"
   ]
  },
  {
   "cell_type": "markdown",
   "metadata": {
    "id": "nScVFbf1IH6G"
   },
   "source": [
    "### Module API: Train a Two-Layer Network\n",
    "Now we are ready to run the training loop. In contrast to part II, we don't explicitly allocate parameter tensors anymore.\n",
    "\n",
    "Simply pass the input size, hidden layer size, and number of classes (i.e. output size) to the constructor of `TwoLayerFC`.\n",
    "\n",
    "You also need to define an optimizer that tracks all the learnable parameters inside `TwoLayerFC`.\n",
    "\n",
    "You don't need to tune any hyperparameters, but you should see model accuracies above 8% after training for one epoch."
   ]
  },
  {
   "cell_type": "code",
   "execution_count": 22,
   "metadata": {
    "id": "UgCcnnQ8IH6G",
    "outputId": "a68c75f0-d8fd-4f01-cd9c-1582ce33c9ff"
   },
   "outputs": [
    {
     "name": "stdout",
     "output_type": "stream",
     "text": [
      "Epoch 0, Iteration 100, loss = 4.6942\n",
      "Checking accuracy on validation set\n",
      "Got 32 / 1000 correct (3.20)\n",
      "\n",
      "Epoch 0, Iteration 200, loss = 4.6001\n",
      "Checking accuracy on validation set\n",
      "Got 61 / 1000 correct (6.10)\n",
      "\n",
      "Epoch 0, Iteration 300, loss = 4.3677\n",
      "Checking accuracy on validation set\n",
      "Got 69 / 1000 correct (6.90)\n",
      "\n",
      "Epoch 0, Iteration 400, loss = 4.2413\n",
      "Checking accuracy on validation set\n",
      "Got 84 / 1000 correct (8.40)\n",
      "\n",
      "Epoch 0, Iteration 500, loss = 4.3595\n",
      "Checking accuracy on validation set\n",
      "Got 82 / 1000 correct (8.20)\n",
      "\n",
      "Epoch 0, Iteration 600, loss = 4.3201\n",
      "Checking accuracy on validation set\n",
      "Got 91 / 1000 correct (9.10)\n",
      "\n",
      "Epoch 0, Iteration 700, loss = 4.4071\n",
      "Checking accuracy on validation set\n",
      "Got 97 / 1000 correct (9.70)\n",
      "\n",
      "Checking accuracy on validation set\n",
      "Got 95 / 1000 correct (9.50)\n"
     ]
    },
    {
     "data": {
      "text/plain": [
       "0.095"
      ]
     },
     "execution_count": 22,
     "metadata": {},
     "output_type": "execute_result"
    }
   ],
   "source": [
    "hidden_layer_size = 4000\n",
    "learning_rate = 1e-3\n",
    "model = TwoLayerFC(3 * 32 * 32, hidden_layer_size, num_class)\n",
    "optimizer = optim.SGD(model.parameters(), lr=learning_rate)\n",
    "\n",
    "train_part34(model, optimizer)"
   ]
  },
  {
   "cell_type": "markdown",
   "metadata": {
    "id": "LPQmj_bxIH6G"
   },
   "source": [
    "### Module API: Train a Three-Layer ConvNet\n",
    "You should now use the Module API to train a three-layer ConvNet on CIFAR. This should look very similar to training the two-layer network! You don't need to tune any hyperparameters, but you should achieve **accuracy above 14% after training for one epoch**.\n",
    "\n",
    "You should train the model using stochastic gradient descent without momentum."
   ]
  },
  {
   "cell_type": "code",
   "execution_count": 23,
   "metadata": {
    "id": "ShUuuRfpIH6O",
    "outputId": "dc01d2f3-3668-4c33-f340-3b09e07fa973"
   },
   "outputs": [
    {
     "name": "stdout",
     "output_type": "stream",
     "text": [
      "Epoch 0, Iteration 100, loss = 4.0954\n",
      "Checking accuracy on validation set\n",
      "Got 78 / 1000 correct (7.80)\n",
      "\n",
      "Epoch 0, Iteration 200, loss = 3.8737\n",
      "Checking accuracy on validation set\n",
      "Got 122 / 1000 correct (12.20)\n",
      "\n",
      "Epoch 0, Iteration 300, loss = 3.9155\n",
      "Checking accuracy on validation set\n",
      "Got 135 / 1000 correct (13.50)\n",
      "\n",
      "Epoch 0, Iteration 400, loss = 3.6420\n",
      "Checking accuracy on validation set\n",
      "Got 151 / 1000 correct (15.10)\n",
      "\n",
      "Epoch 0, Iteration 500, loss = 3.5827\n",
      "Checking accuracy on validation set\n",
      "Got 151 / 1000 correct (15.10)\n",
      "\n",
      "Epoch 0, Iteration 600, loss = 3.8418\n",
      "Checking accuracy on validation set\n",
      "Got 162 / 1000 correct (16.20)\n",
      "\n",
      "Epoch 0, Iteration 700, loss = 3.9383\n",
      "Checking accuracy on validation set\n",
      "Got 159 / 1000 correct (15.90)\n",
      "\n",
      "Checking accuracy on validation set\n",
      "Got 160 / 1000 correct (16.00)\n"
     ]
    },
    {
     "data": {
      "text/plain": [
       "0.16"
      ]
     },
     "execution_count": 23,
     "metadata": {},
     "output_type": "execute_result"
    }
   ],
   "source": [
    "learning_rate = 1e-3\n",
    "channel_1 = 32\n",
    "channel_2 = 64\n",
    "\n",
    "model = None\n",
    "optimizer = None\n",
    "################################################################################\n",
    "# TODO: Instantiate your ThreeLayerConvNet model and a corresponding optimizer #\n",
    "################################################################################\n",
    "# *****START OF YOUR CODE (DO NOT DELETE/MODIFY THIS LINE)*****\n",
    "model = ThreeLayerConvNet(3, channel_1, channel_2, num_class)\n",
    "optimizer = optim.SGD(params=model.parameters(), lr=learning_rate)\n",
    "# *****END OF YOUR CODE (DO NOT DELETE/MODIFY THIS LINE)*****\n",
    "################################################################################\n",
    "#                                 END OF YOUR CODE\n",
    "################################################################################\n",
    "\n",
    "train_part34(model, optimizer, epochs=1)"
   ]
  },
  {
   "cell_type": "markdown",
   "metadata": {
    "id": "f3CPXzmbIH6P"
   },
   "source": [
    "# Part IV. PyTorch Sequential API (10% of Grade)\n",
    "\n",
    "Part III introduced the PyTorch Module API, which allows you to define arbitrary learnable layers and their connectivity.\n",
    "\n",
    "For simple models like a stack of feed forward layers, you still need to go through 3 steps: subclass `nn.Module`, assign layers to class attributes in `__init__`, and call each layer one by one in `forward()`. Is there a more convenient way?\n",
    "\n",
    "Fortunately, PyTorch provides a container Module called `nn.Sequential`, which merges the above steps into one. It is not as flexible as `nn.Module`, because you cannot specify more complex topology than a feed-forward stack, but it's good enough for many use cases.\n",
    "\n",
    "### Sequential API: Two-Layer Network\n",
    "Let's see how to rewrite our two-layer fully connected network example with `nn.Sequential`, and train it using the training loop defined above.\n",
    "\n",
    "Again, you don't need to tune any hyperparameters here, but you shoud achieve above 17% accuracy after one epoch of training."
   ]
  },
  {
   "cell_type": "code",
   "execution_count": 24,
   "metadata": {
    "id": "VuIjTvb5IH6P",
    "outputId": "5ec84df2-4fdd-4cd2-9b9e-022ff8579fa4"
   },
   "outputs": [
    {
     "name": "stdout",
     "output_type": "stream",
     "text": [
      "Epoch 0, Iteration 100, loss = 4.1383\n",
      "Checking accuracy on validation set\n",
      "Got 118 / 1000 correct (11.80)\n",
      "\n",
      "Epoch 0, Iteration 200, loss = 3.9598\n",
      "Checking accuracy on validation set\n",
      "Got 142 / 1000 correct (14.20)\n",
      "\n",
      "Epoch 0, Iteration 300, loss = 3.5631\n",
      "Checking accuracy on validation set\n",
      "Got 140 / 1000 correct (14.00)\n",
      "\n",
      "Epoch 0, Iteration 400, loss = 3.8697\n",
      "Checking accuracy on validation set\n",
      "Got 151 / 1000 correct (15.10)\n",
      "\n",
      "Epoch 0, Iteration 500, loss = 3.6436\n",
      "Checking accuracy on validation set\n",
      "Got 155 / 1000 correct (15.50)\n",
      "\n",
      "Epoch 0, Iteration 600, loss = 3.6651\n",
      "Checking accuracy on validation set\n",
      "Got 153 / 1000 correct (15.30)\n",
      "\n",
      "Epoch 0, Iteration 700, loss = 3.7589\n",
      "Checking accuracy on validation set\n",
      "Got 170 / 1000 correct (17.00)\n",
      "\n",
      "Checking accuracy on validation set\n",
      "Got 202 / 1000 correct (20.20)\n"
     ]
    },
    {
     "data": {
      "text/plain": [
       "0.202"
      ]
     },
     "execution_count": 24,
     "metadata": {},
     "output_type": "execute_result"
    }
   ],
   "source": [
    "# We need to wrap `flatten` function in a module in order to stack it\n",
    "# in nn.Sequential\n",
    "class Flatten(nn.Module):\n",
    "    def forward(self, x):\n",
    "        return flatten(x)\n",
    "\n",
    "hidden_layer_size = 4000\n",
    "learning_rate = 1e-2\n",
    "\n",
    "model = nn.Sequential(\n",
    "    Flatten(),\n",
    "    nn.Linear(3 * 32 * 32, hidden_layer_size),\n",
    "    nn.ReLU(),\n",
    "    nn.Linear(hidden_layer_size, num_class),\n",
    ")\n",
    "\n",
    "# you can use Nesterov momentum in optim.SGD\n",
    "optimizer = optim.SGD(model.parameters(), lr=learning_rate,\n",
    "                     momentum=0.9, nesterov=True)\n",
    "\n",
    "train_part34(model, optimizer)"
   ]
  },
  {
   "cell_type": "markdown",
   "metadata": {
    "id": "xm0-xDpTIH6P"
   },
   "source": [
    "### Sequential API: Three-Layer ConvNet\n",
    "Here you should use `nn.Sequential` to define and train a three-layer ConvNet with the same architecture we used in Part III:\n",
    "\n",
    "1. Convolutional layer (with bias) with 32 5x5 filters, with zero-padding of 2\n",
    "2. ReLU\n",
    "3. Convolutional layer (with bias) with 16 3x3 filters, with zero-padding of 1\n",
    "4. ReLU\n",
    "5. Fully-connected layer (with bias) to compute scores for 100 classes\n",
    "\n",
    "You should initialize your weight matrices using the `random_weight` function defined above, and you should initialize your bias vectors using the `zero_weight` function above.\n",
    "\n",
    "You should optimize your model using stochastic gradient descent with Nesterov momentum 0.9.\n",
    "\n",
    "Again, you don't need to tune any hyperparameters but you should see **accuracy above 14% after one epoch** of training."
   ]
  },
  {
   "cell_type": "code",
   "execution_count": 25,
   "metadata": {
    "id": "Cl7RJBzkIH6P",
    "outputId": "35d45d84-8a53-4f1d-c1f7-a2c305d85cba"
   },
   "outputs": [
    {
     "name": "stdout",
     "output_type": "stream",
     "text": [
      "Epoch 0, Iteration 100, loss = 4.0649\n",
      "Checking accuracy on validation set\n",
      "Got 89 / 1000 correct (8.90)\n",
      "\n",
      "Epoch 0, Iteration 200, loss = 4.2042\n",
      "Checking accuracy on validation set\n",
      "Got 121 / 1000 correct (12.10)\n",
      "\n",
      "Epoch 0, Iteration 300, loss = 3.9313\n",
      "Checking accuracy on validation set\n",
      "Got 126 / 1000 correct (12.60)\n",
      "\n",
      "Epoch 0, Iteration 400, loss = 3.5301\n",
      "Checking accuracy on validation set\n",
      "Got 141 / 1000 correct (14.10)\n",
      "\n",
      "Epoch 0, Iteration 500, loss = 3.4397\n",
      "Checking accuracy on validation set\n",
      "Got 169 / 1000 correct (16.90)\n",
      "\n",
      "Epoch 0, Iteration 600, loss = 3.3897\n",
      "Checking accuracy on validation set\n",
      "Got 187 / 1000 correct (18.70)\n",
      "\n",
      "Epoch 0, Iteration 700, loss = 3.1412\n",
      "Checking accuracy on validation set\n",
      "Got 197 / 1000 correct (19.70)\n",
      "\n",
      "Checking accuracy on validation set\n",
      "Got 227 / 1000 correct (22.70)\n"
     ]
    },
    {
     "data": {
      "text/plain": [
       "0.227"
      ]
     },
     "execution_count": 25,
     "metadata": {},
     "output_type": "execute_result"
    }
   ],
   "source": [
    "channel_1 = 32\n",
    "channel_2 = 16\n",
    "learning_rate = 1e-3\n",
    "\n",
    "model = None\n",
    "optimizer = None\n",
    "\n",
    "################################################################################\n",
    "# TODO: Rewrite the 2-layer ConvNet with bias from Part III with the           #\n",
    "# Sequential API.                                                              #\n",
    "################################################################################\n",
    "# *****START OF YOUR CODE (DO NOT DELETE/MODIFY THIS LINE)*****\n",
    "model = nn.Sequential(\n",
    "    nn.Conv2d(3, 32, (5,5), padding=2),\n",
    "    nn.ReLU(),\n",
    "    nn.Conv2d(32, 16, (3,3), padding=1),\n",
    "    nn.ReLU(),\n",
    "    Flatten(),\n",
    "    nn.Linear(16*32*32, num_class)\n",
    ")\n",
    "\n",
    "def init_weights(m):\n",
    "    # print(type(m))\n",
    "    if (type(m) in [nn.Conv2d]):\n",
    "        zr_b = zero_weight(m.bias.shape)\n",
    "        km_w = random_weight(m.weight.shape)\n",
    "        m.bias.data = zr_b\n",
    "        m.weight.data = km_w\n",
    "    elif (type(m) in [nn.Linear]):\n",
    "        zr_b = zero_weight(m.bias.shape)\n",
    "        num_out, num_in = m.weight.shape\n",
    "        linear_w_shape = (num_in, num_out) # reshape to match fan-in-dimension-first needs\n",
    "        km_w = random_weight(linear_w_shape)\n",
    "        km_w = km_w.view((num_out, num_in))\n",
    "        m.bias.data = zr_b\n",
    "        m.weight.data = km_w\n",
    "    return 0\n",
    "model.apply(init_weights)\n",
    "optimizer = optim.SGD(params=model.parameters(), lr=learning_rate, momentum=0.9, nesterov=True)\n",
    "\n",
    "# *****END OF YOUR CODE (DO NOT DELETE/MODIFY THIS LINE)*****\n",
    "################################################################################\n",
    "#                                 END OF YOUR CODE\n",
    "################################################################################\n",
    "\n",
    "train_part34(model, optimizer, epochs=1)"
   ]
  },
  {
   "cell_type": "markdown",
   "metadata": {
    "id": "aLK3lpu7IH6P"
   },
   "source": [
    "# Part V. Resnet10 Implementation (35% of Grade)\n",
    "\n",
    "In this section, you will use the tools introduced above to implement the Resnet architecture. The Resnet architecture was introduced in: https://arxiv.org/pdf/1512.03385.pdf and it has become one of the most popular architectures used for computer vision. The key feature of the resnet architecture is the presence of skip connections which allow for better gradient flow even for very deep networks. Therefore, unlike vanilla CNNs introduced above, we can effectively build Resnets models having more than 100 layers. However, for the purposes of this exercise we will be using a smaller Resnet-10 architecture shown in the diagram below.\n",
    "\n",
    "In the architecture above, the downsampling is performed in conv5_1. We recommend using the adam optimzer for training Resnet. You should see about *45%* accuracy in 10 epochs. The template below is based on the Module API but you are allowed to use other Pytorch APIs if you prefer."
   ]
  },
  {
   "cell_type": "code",
   "execution_count": 26,
   "metadata": {
    "id": "DuIMSCzQIH6Q"
   },
   "outputs": [],
   "source": [
    "########################################################################\n",
    "# TODO: Implement the forward function for the Resnet specified        #\n",
    "# above. HINT: You might need to create a helper class to              #\n",
    "# define a Resnet block and then use that block here to create         #\n",
    "# the resnet layers i.e. conv2_x, conv3_x, conv4_x and conv5_x         #\n",
    "########################################################################\n",
    "\n",
    "# *****START OF YOUR CODE (DO NOT DELETE/MODIFY THIS LINE)*****\n",
    "import torch.nn.functional as F  # useful stateless functions\n",
    "def flatten(x):\n",
    "    N = x.shape[0] # read in N, C, H, W\n",
    "    return x.view(N, -1)  # \"flatten\" the C * H * W values into a single vector per image\n",
    "\n",
    "class ResNetBlock(nn.Module):\n",
    "    def __init__(self, kernel_size=3, in_channel=64, out_channel=64, stride1=1, stride2=1, padding1=1, padding2=1, sc_stride=1, sc_padding=1, sc_kernel_size=3, do_projection=True, batchNorm=True):\n",
    "        super(ResNetBlock, self).__init__()\n",
    "        self.conv1 = nn.Conv2d(in_channels=in_channel, out_channels=out_channel, kernel_size=kernel_size, stride=stride1, padding=padding1)\n",
    "        self.conv2 = nn.Conv2d(in_channels=out_channel, out_channels=out_channel, kernel_size=kernel_size, stride=stride2, padding=padding2)\n",
    "        self.batchNorm = batchNorm\n",
    "        if self.batchNorm:\n",
    "          self.bn1 = nn.BatchNorm2d(out_channel)\n",
    "          self.bn2 = nn.BatchNorm2d(out_channel)\n",
    "        self.do_projection = do_projection\n",
    "        if self.do_projection:\n",
    "            self.shortcut = nn.Sequential(nn.Conv2d(in_channels=in_channel, out_channels=out_channel, kernel_size=sc_kernel_size, stride=sc_stride, padding=sc_padding),\n",
    "                                         nn.BatchNorm2d(out_channel))\n",
    "    def forward(self, x):\n",
    "        identity = x.clone()\n",
    "        if self.do_projection:\n",
    "            identity = self.shortcut(identity)\n",
    "        x = self.conv1(x)\n",
    "        if self.batchNorm:\n",
    "          x = self.bn1(x)\n",
    "        x = F.relu(x)\n",
    "        x = self.conv2(x)\n",
    "        if self.batchNorm:\n",
    "          x = self.bn2(x)\n",
    "        x = x + identity\n",
    "        x = F.relu(x)\n",
    "        return x\n",
    "\n",
    "class ResNet(nn.Module):\n",
    "    def __init__(self, num_classes=100, batchNorm=True):\n",
    "        super(ResNet, self).__init__()\n",
    "        self.conv1 = nn.Conv2d(3, 64, (7,7), stride=2, padding=3) # output size 16*16\n",
    "        self.batchNorm = batchNorm\n",
    "        if self.batchNorm:\n",
    "          self.bn1 = nn.BatchNorm2d(64)\n",
    "        self.maxpool1 = nn.MaxPool2d(kernel_size=3, stride=2, padding=1) # output size 8*8, 64 channels\n",
    "        self.conv2 = ResNetBlock(kernel_size=3, in_channel=64, out_channel=64, do_projection=False, batchNorm=batchNorm) # output size 8*8, 64 channels\n",
    "        self.conv3 = ResNetBlock(kernel_size=3, in_channel=64, out_channel=128, do_projection=True, batchNorm=batchNorm) # output size 8*8, 128 channels\n",
    "        self.conv4 = ResNetBlock(kernel_size=3, in_channel=128, out_channel=256, do_projection=True, batchNorm=batchNorm) # output size 8*8, 256 channels\n",
    "        self.conv5 = ResNetBlock(kernel_size=3, in_channel=256, stride1=2, padding1=1, stride2=1, padding2=1, out_channel=512,\n",
    "                                 do_projection=True, sc_kernel_size=1, sc_stride=2, sc_padding=0, batchNorm=batchNorm) # output size 4*4, 512 channels, down-sampled\n",
    "        self.avgpool1 = nn.AdaptiveAvgPool2d((1, 1))\n",
    "        self.fc1 = nn.Linear(1*1*512, num_classes)\n",
    "    def forward(self, x): # input size N*3*32*32\n",
    "        x = self.conv1(x)\n",
    "        if self.batchNorm:\n",
    "          x = self.bn1(x)\n",
    "        x = F.relu(x)\n",
    "        x = self.maxpool1(x)\n",
    "        x = self.conv2(x)\n",
    "        x = self.conv3(x)\n",
    "        x = self.conv4(x)\n",
    "        x = self.conv5(x)\n",
    "        x = self.avgpool1(x)\n",
    "        x = flatten(x)\n",
    "        x = self.fc1(x) # returning raw linear outputs for 100 classes\n",
    "        return x\n",
    "\n",
    "\n",
    "\n",
    "########################################################################\n",
    "#                             END OF YOUR CODE                         #\n",
    "########################################################################"
   ]
  },
  {
   "cell_type": "code",
   "execution_count": 27,
   "metadata": {
    "colab": {
     "base_uri": "https://localhost:8080/"
    },
    "id": "IOc8ZoMCIH6Q",
    "outputId": "8e2238d7-d263-453e-ebf0-6704428b9b6a"
   },
   "outputs": [
    {
     "name": "stdout",
     "output_type": "stream",
     "text": [
      "Epoch 0, Iteration 700, loss = 2.8744\n",
      "Checking accuracy on validation set\n",
      "Got 222 / 1000 correct (22.20)\n",
      "\n",
      "Epoch 1, Iteration 700, loss = 2.5381\n",
      "Checking accuracy on validation set\n",
      "Got 356 / 1000 correct (35.60)\n",
      "\n",
      "Epoch 2, Iteration 700, loss = 2.0900\n",
      "Checking accuracy on validation set\n",
      "Got 366 / 1000 correct (36.60)\n",
      "\n",
      "Epoch 3, Iteration 700, loss = 1.8775\n",
      "Checking accuracy on validation set\n",
      "Got 413 / 1000 correct (41.30)\n",
      "\n",
      "Epoch 4, Iteration 700, loss = 1.6261\n",
      "Checking accuracy on validation set\n",
      "Got 450 / 1000 correct (45.00)\n",
      "\n",
      "Epoch 5, Iteration 700, loss = 1.3894\n",
      "Checking accuracy on validation set\n",
      "Got 470 / 1000 correct (47.00)\n",
      "\n",
      "Epoch 6, Iteration 700, loss = 1.5636\n",
      "Checking accuracy on validation set\n",
      "Got 455 / 1000 correct (45.50)\n",
      "\n",
      "Epoch 7, Iteration 700, loss = 1.1394\n",
      "Checking accuracy on validation set\n",
      "Got 481 / 1000 correct (48.10)\n",
      "\n",
      "Epoch 8, Iteration 700, loss = 1.1861\n",
      "Checking accuracy on validation set\n",
      "Got 495 / 1000 correct (49.50)\n",
      "\n",
      "Epoch 9, Iteration 700, loss = 0.8012\n",
      "Checking accuracy on validation set\n",
      "Got 463 / 1000 correct (46.30)\n",
      "\n",
      "Checking accuracy on validation set\n",
      "Got 465 / 1000 correct (46.50)\n"
     ]
    }
   ],
   "source": [
    "learning_rate = 1e-3\n",
    "\n",
    "model = None\n",
    "optimizer = None\n",
    "\n",
    "################################################################################\n",
    "# TODO: Instantiate and train Resnet-10.                                       #\n",
    "################################################################################\n",
    "# *****START OF YOUR CODE (DO NOT DELETE/MODIFY THIS LINE)*****\n",
    "model = ResNet(batchNorm=False)\n",
    "optimizer = optim.Adam(params=model.parameters(), lr=learning_rate)\n",
    "\n",
    "# *****END OF YOUR CODE (DO NOT DELETE/MODIFY THIS LINE)*****\n",
    "################################################################################\n",
    "#                                 END OF YOUR CODE\n",
    "################################################################################\n",
    "\n",
    "print_every = 700\n",
    "train_part34(model, optimizer, epochs=10)\n",
    "print_every = 100"
   ]
  },
  {
   "cell_type": "markdown",
   "metadata": {
    "id": "tO9pt5CkIH6Q"
   },
   "source": [
    "## BatchNorm\n",
    "\n",
    "Now you will also introduce the Batch-Normalization layer within the Resnet architecture implemented above. Please add a batch normalization layer after each conv in your network before applying the activation function (i.e. the order should be conv->BatchNorm->Relu). Please read the section 3.4 from the Resnet paper (https://arxiv.org/pdf/1512.03385.pdf.\n",
    "\n",
    "Feel free to re-use the Resnet class that you have implemented above by introducing a boolean flag for batch normalization.\n",
    "\n",
    "After trying out batch-norm, please discuss the performance comparison between Resnet with BatchNorm and without BatchNorm and possible reasons for why one performs better than the other."
   ]
  },
  {
   "cell_type": "code",
   "execution_count": 28,
   "metadata": {
    "colab": {
     "base_uri": "https://localhost:8080/"
    },
    "id": "RBt6u0NeIH6Q",
    "outputId": "9c685659-b27d-414d-f2c8-9a652be14fcf"
   },
   "outputs": [
    {
     "name": "stdout",
     "output_type": "stream",
     "text": [
      "Epoch 0, Iteration 700, loss = 3.2622\n",
      "Checking accuracy on validation set\n",
      "Got 228 / 1000 correct (22.80)\n",
      "\n",
      "Epoch 1, Iteration 700, loss = 2.4321\n",
      "Checking accuracy on validation set\n",
      "Got 304 / 1000 correct (30.40)\n",
      "\n",
      "Epoch 2, Iteration 700, loss = 2.6425\n",
      "Checking accuracy on validation set\n",
      "Got 377 / 1000 correct (37.70)\n",
      "\n",
      "Epoch 3, Iteration 700, loss = 1.9153\n",
      "Checking accuracy on validation set\n",
      "Got 410 / 1000 correct (41.00)\n",
      "\n",
      "Epoch 4, Iteration 700, loss = 1.7098\n",
      "Checking accuracy on validation set\n",
      "Got 465 / 1000 correct (46.50)\n",
      "\n",
      "Epoch 5, Iteration 700, loss = 2.2182\n",
      "Checking accuracy on validation set\n",
      "Got 485 / 1000 correct (48.50)\n",
      "\n",
      "Epoch 6, Iteration 700, loss = 1.1542\n",
      "Checking accuracy on validation set\n",
      "Got 511 / 1000 correct (51.10)\n",
      "\n",
      "Epoch 7, Iteration 700, loss = 1.0563\n",
      "Checking accuracy on validation set\n",
      "Got 519 / 1000 correct (51.90)\n",
      "\n",
      "Epoch 8, Iteration 700, loss = 1.3591\n",
      "Checking accuracy on validation set\n",
      "Got 523 / 1000 correct (52.30)\n",
      "\n",
      "Epoch 9, Iteration 700, loss = 1.2013\n",
      "Checking accuracy on validation set\n",
      "Got 523 / 1000 correct (52.30)\n",
      "\n",
      "Checking accuracy on validation set\n",
      "Got 507 / 1000 correct (50.70)\n"
     ]
    }
   ],
   "source": [
    "learning_rate = 1e-3\n",
    "\n",
    "model = None\n",
    "optimizer = None\n",
    "\n",
    "################################################################################\n",
    "# TODO: InstantiateResnet with BatchNorm                                       #\n",
    "################################################################################\n",
    "# *****START OF YOUR CODE (DO NOT DELETE/MODIFY THIS LINE)*****\n",
    "model = ResNet(batchNorm=True)\n",
    "optimizer = optim.Adam(params=model.parameters(), lr=learning_rate)\n",
    "\n",
    "\n",
    "# *****END OF YOUR CODE (DO NOT DELETE/MODIFY THIS LINE)*****\n",
    "################################################################################\n",
    "#                                 END OF YOUR CODE\n",
    "################################################################################\n",
    "\n",
    "print_every = 700\n",
    "train_part34(model, optimizer, epochs=10)\n",
    "print_every = 100"
   ]
  },
  {
   "cell_type": "markdown",
   "metadata": {
    "id": "fd5V7ntVIH6Q"
   },
   "source": [
    "## Discussion on BatchNorm\n",
    "The validation accuracy after BatchNorm (50.7%) turns out to be higher than that without BatchNorm (46.5%). This is probably because BatchNorm can act as a regularizer adding noise to each mini-batch of images by normalizing, and thus reducing overfitting and improving the model's generalizability to unseen data. It may also because BatchNorm stabilizes training by mitigating the problems of vanishing or exploding gradients in the network, facilitating faster and better convergence to the local optimum."
   ]
  },
  {
   "cell_type": "markdown",
   "metadata": {
    "id": "Ofxg4Di1IH6Q"
   },
   "source": [
    "## Batch Size\n",
    "\n",
    "In this exercise, we will study the effect of batch size on performance of ResNet (with BatchNorm).\n",
    "\n",
    "Specifically, you should try batch sizes of 32, 64 and 128 and describe the effect of varying batch size. You should print the validation accuracy of using each batch size in different rows.\n",
    "\n",
    "After trying out different batch size, please discuss the effect of different batch sizes and possible reasons for that (either they are showing some trend or not)."
   ]
  },
  {
   "cell_type": "code",
   "execution_count": 29,
   "metadata": {
    "colab": {
     "base_uri": "https://localhost:8080/"
    },
    "id": "qJEY3vg0IH6Q",
    "outputId": "0b87d998-9ac8-4ef2-a369-d1c631cfd8f3"
   },
   "outputs": [
    {
     "name": "stdout",
     "output_type": "stream",
     "text": [
      "Checking accuracy on validation set\n",
      "Got 502 / 1000 correct (50.20)\n",
      "Checking accuracy on validation set\n",
      "Got 514 / 1000 correct (51.40)\n",
      "Checking accuracy on validation set\n",
      "Got 511 / 1000 correct (51.10)\n",
      "\n",
      "Validation accuracy for batch_size=32: 0.502\n",
      "Validation accuracy for batch_size=64: 0.514\n",
      "Validation accuracy for batch_size=128: 0.511\n"
     ]
    }
   ],
   "source": [
    "print_every = 9999\n",
    "batch_sizes = [32, 64, 128]\n",
    "learning_rate = 1e-3\n",
    "model = None\n",
    "optimizer = None\n",
    "\n",
    "################################################################################\n",
    "# TODO: Try Resnet with different batch sizes. Hint: You will need to          #\n",
    "#  create a new dataloader with appropriate batch size for each experiment.    #\n",
    "# You will also need to store the final accuracy for each experiment           #\n",
    "################################################################################\n",
    "# *****START OF YOUR CODE (DO NOT DELETE/MODIFY THIS LINE)*****\n",
    "final_acc = []\n",
    "\n",
    "# training with different batch sizes\n",
    "for batch_size in batch_sizes:\n",
    "  loader_train = DataLoader(cifar100_train, batch_size=batch_size, num_workers=2,\n",
    "                            sampler=sampler.SubsetRandomSampler(range(NUM_TRAIN))) # 49000 train data\n",
    "\n",
    "  loader_val = DataLoader(cifar100_val, batch_size=batch_size, num_workers=2,\n",
    "                          sampler=sampler.SubsetRandomSampler(range(NUM_TRAIN, 50000))) # 1000 val data\n",
    "\n",
    "  loader_test = DataLoader(cifar100_test, batch_size=batch_size, num_workers=2)\n",
    "  model = ResNet(batchNorm=True)\n",
    "  optimizer = optim.Adam(params=model.parameters(), lr=learning_rate)\n",
    "  acc = train_part34(model, optimizer, epochs=10)\n",
    "  final_acc.append(acc)\n",
    "\n",
    "# print out accuracies for different batch sizes\n",
    "print()\n",
    "for j in range(len(batch_sizes)):\n",
    "  batch_size, acc = batch_sizes[j], final_acc[j]\n",
    "  print(f\"Validation accuracy for batch_size={batch_size}: {acc}\")\n",
    "\n",
    "# *****END OF YOUR CODE (DO NOT DELETE/MODIFY THIS LINE)*****\n",
    "################################################################################\n",
    "#                                 END OF YOUR CODE\n",
    "################################################################################\n",
    "print_every = 100"
   ]
  },
  {
   "cell_type": "markdown",
   "metadata": {
    "id": "gu-yk2y6IH6R"
   },
   "source": [
    "## Discuss effect of Batch Size\n",
    "\n",
    "The general but not too obvious trend is that as the batch size increases, the overall validation accuracy increases: \n",
    "\n",
    "We see from the results that the network with batch_size=128/64 gives a slightly higher validation accuracy. This is probably because the large batch size allows a more stable convergence to the local optimum by computing the gradient using more data within each batch. \n",
    "\n",
    "The results with batch_size=32 is slightly poorer, which is probably because of the noisy gradients caused by the batches which contain too few samples, which leads to worse generalization.\n",
    "\n",
    "The results with batch_size=32/64/128 actually don't differ much. This may be due to the usage of Adam, which uses adaptive learning rate techniques to make gradients move more stably and to mitigate the effects of batch size variations. It may also be due to the batch normalizations since it can avoid too aggressive gradients caused by the variations on batch size and hence stabilize training."
   ]
  },
  {
   "cell_type": "markdown",
   "metadata": {
    "id": "nscQMcD6IH6R"
   },
   "source": [
    "# Part VI. CIFAR-100 open-ended challenge (25% of Grade)\n",
    "\n",
    "In this section, you can experiment with whatever ConvNet architecture you'd like on CIFAR-100 **except Resnet** because we already tried it.\n",
    "\n",
    "Now it's your job to experiment with architectures, hyperparameters, loss functions, and optimizers to train a model that achieves **at least 48%** accuracy on the CIFAR-100 **validation** set within 10 epochs. You can use the check_accuracy and train functions from above. You can use either `nn.Module` or `nn.Sequential` API.\n",
    "\n",
    "Describe what you did at the end of this notebook.\n",
    "\n",
    "Here are the official API documentation for each component.\n",
    "\n",
    "* Layers in torch.nn package: http://pytorch.org/docs/stable/nn.html\n",
    "* Activations: http://pytorch.org/docs/stable/nn.html#non-linear-activations\n",
    "* Loss functions: http://pytorch.org/docs/stable/nn.html#loss-functions\n",
    "* Optimizers: http://pytorch.org/docs/stable/optim.html\n",
    "\n",
    "\n",
    "### Things you might try:\n",
    "- **Filter size**: Above we used 5x5; would smaller filters be more efficient?\n",
    "- **Adam Optimizer**: Above we used SGD optimizer, would an Adam optimizer do better?\n",
    "- **Number of filters**: Above we used 32 filters. Do more or fewer do better?\n",
    "- **Pooling vs Strided Convolution**: Do you use max pooling or just stride convolutions?\n",
    "- **Batch normalization**: Try adding spatial batch normalization after convolution layers and vanilla batch normalization after affine layers. Do your networks train faster? You can also try out LayerNorm and GroupNorm.\n",
    "- **Network architecture**: Can you do better with a deep network? Good architectures to try include:\n",
    "    - [conv-relu-pool]xN -> [affine]xM -> [softmax or SVM]\n",
    "    - [conv-relu-conv-relu-pool]xN -> [affine]xM -> [softmax or SVM]\n",
    "    - [batchnorm-relu-conv]xN -> [affine]xM -> [softmax or SVM]\n",
    "- **Global Average Pooling**: Instead of flattening and then having multiple affine layers, perform convolutions until your image gets small (7x7 or so) and then perform an average pooling operation to get to a 1x1 image picture (1, 1 , Filter#), which is then reshaped into a (Filter#) vector. This is used in [Google's Inception Network](https://arxiv.org/abs/1512.00567) (See Table 1 for their architecture).\n",
    "- **Regularization**: Add l2 weight regularization, or perhaps use Dropout.\n",
    "\n",
    "### Tips for training\n",
    "For each network architecture that you try, you should tune the learning rate and other hyperparameters. When doing this there are a couple important things to keep in mind:\n",
    "\n",
    "- If the parameters are working well, you should see improvement within a few hundred iterations\n",
    "- Remember the coarse-to-fine approach for hyperparameter tuning: start by testing a large range of hyperparameters for just a few training iterations to find the combinations of parameters that are working at all.\n",
    "- Once you have found some sets of parameters that seem to work, search more finely around these parameters. You may need to train for more epochs.\n",
    "- You should use the validation set for hyperparameter search, and save your test set for evaluating your architecture on the best parameters as selected by the validation set.\n",
    "\n",
    "### Want more improvements?\n",
    "There are many other features you can implement to try and improve your performance.\n",
    "\n",
    "- Alternative optimizers: you can try Adam, Adagrad, RMSprop, etc.\n",
    "- Alternative activation functions such as leaky ReLU, parametric ReLU, ELU, or MaxOut.\n",
    "- Model ensembles\n",
    "- Data augmentation\n",
    "- New Architectures\n",
    "  - [DenseNets](https://arxiv.org/abs/1608.06993) where inputs into previous layers are concatenated together.\n",
    "\n",
    "### Have fun and may the gradients be with you!"
   ]
  },
  {
   "cell_type": "code",
   "execution_count": 40,
   "metadata": {
    "id": "ztz0JEXnIH6R"
   },
   "outputs": [
    {
     "name": "stdout",
     "output_type": "stream",
     "text": [
      "Epoch 0, Iteration 700, loss = 4.0120\n",
      "Checking accuracy on validation set\n",
      "Got 104 / 1000 correct (10.40)\n",
      "\n",
      "Epoch 1, Iteration 700, loss = 3.2635\n",
      "Checking accuracy on validation set\n",
      "Got 182 / 1000 correct (18.20)\n",
      "\n",
      "Epoch 2, Iteration 700, loss = 2.5610\n",
      "Checking accuracy on validation set\n",
      "Got 290 / 1000 correct (29.00)\n",
      "\n",
      "Epoch 3, Iteration 700, loss = 2.7657\n",
      "Checking accuracy on validation set\n",
      "Got 337 / 1000 correct (33.70)\n",
      "\n",
      "Epoch 4, Iteration 700, loss = 2.3400\n",
      "Checking accuracy on validation set\n",
      "Got 420 / 1000 correct (42.00)\n",
      "\n",
      "Epoch 5, Iteration 700, loss = 1.8719\n",
      "Checking accuracy on validation set\n",
      "Got 433 / 1000 correct (43.30)\n",
      "\n",
      "Epoch 6, Iteration 700, loss = 1.4254\n",
      "Checking accuracy on validation set\n",
      "Got 473 / 1000 correct (47.30)\n",
      "\n",
      "Epoch 7, Iteration 700, loss = 1.3539\n",
      "Checking accuracy on validation set\n",
      "Got 522 / 1000 correct (52.20)\n",
      "\n",
      "Epoch 8, Iteration 700, loss = 1.2968\n",
      "Checking accuracy on validation set\n",
      "Got 508 / 1000 correct (50.80)\n",
      "\n",
      "Epoch 9, Iteration 700, loss = 1.1259\n",
      "Checking accuracy on validation set\n",
      "Got 545 / 1000 correct (54.50)\n",
      "\n",
      "Checking accuracy on validation set\n",
      "Got 552 / 1000 correct (55.20)\n"
     ]
    }
   ],
   "source": [
    "################################################################################\n",
    "# TODO:                                                                        #\n",
    "# Experiment with any architectures, optimizers, and hyperparameters.          #\n",
    "# Achieve AT LEAST 48% accuracy on the *validation set* within 10 epochs.      #\n",
    "#                                                                              #\n",
    "# Note that you can use the check_accuracy function to evaluate on either      #\n",
    "# the test set or the validation set, by passing either loader_test or         #\n",
    "# loader_val as the second argument to check_accuracy. You should not touch    #\n",
    "# the test set until you have finished your architecture and  hyperparameter   #\n",
    "# tuning, and only run the test set once at the end to report a final value.   #\n",
    "################################################################################\n",
    "model = None\n",
    "optimizer = None\n",
    "\n",
    "# *****START OF YOUR CODE (DO NOT DELETE/MODIFY THIS LINE)*****\n",
    "import torch.nn.functional as F  # useful stateless functions\n",
    "learning_rate = 3e-3\n",
    "def flatten(x):\n",
    "    N = x.shape[0] # read in N, C, H, W\n",
    "    return x.view(N, -1)  # \"flatten\" the C * H * W values into a single vector per image\n",
    "\n",
    "class BottleneckBlock(nn.Module):\n",
    "    def __init__(self, in_channel=64, mid_channels=64, out_channel=64, stride1=1, stride2=1, padding1=0, padding2=1, sc_stride=1, sc_padding=1, dn_sample=False):\n",
    "        super(BottleneckBlock, self).__init__()\n",
    "        self.conv1 = nn.Conv2d(in_channels=in_channel, out_channels=mid_channels, kernel_size=1, stride=stride1, padding=padding1)\n",
    "        self.conv2 = nn.Conv2d(in_channels=mid_channels, out_channels=mid_channels, kernel_size=3, stride=stride2, padding=padding2)\n",
    "        self.conv3 = nn.Conv2d(in_channels=mid_channels, out_channels=out_channel, kernel_size=1, stride=stride1, padding=padding1) # To keep the same output size: same kernel size -> same stride/padding\n",
    "        self.bn1 = nn.BatchNorm2d(mid_channels)\n",
    "        self.bn2 = nn.BatchNorm2d(mid_channels)\n",
    "        self.bn3 = nn.BatchNorm2d(out_channel)\n",
    "        self.do_projection = ((in_channel != out_channel) or dn_sample)\n",
    "        if self.do_projection:\n",
    "            self.shortcut = nn.Sequential(nn.Conv2d(in_channels=in_channel, out_channels=out_channel, kernel_size=3, stride=sc_stride, padding=sc_padding),\n",
    "                                         nn.BatchNorm2d(out_channel))\n",
    "    def forward(self, x):\n",
    "        identity = x.clone()\n",
    "        if self.do_projection:\n",
    "            identity = self.shortcut(identity)\n",
    "        x = self.bn1(self.conv1(x))\n",
    "        x = F.relu(x)\n",
    "        x = self.bn2(self.conv2(x))\n",
    "        x = F.relu(x)\n",
    "        x = self.bn3(self.conv3(x))\n",
    "#         print(x.shape, identity.shape)\n",
    "        x = x + identity\n",
    "        x = F.relu(x)\n",
    "        return x\n",
    "\n",
    "class ResNetBottleneck(nn.Module):\n",
    "    def __init__(self, num_classes=100):\n",
    "        super(ResNetBottleneck, self).__init__()\n",
    "        self.conv1 = nn.Conv2d(3, 64, (7,7), stride=2, padding=3) # output size 16*16\n",
    "        self.bn1 = nn.BatchNorm2d(64)\n",
    "        self.maxpool1 = nn.MaxPool2d(kernel_size=3, stride=2, padding=1) # output size 8*8, 64 channels\n",
    "        self.conv2_1 = BottleneckBlock(in_channel=64, mid_channels=64, out_channel=256) # output size 8*8, 64 channels\n",
    "        self.conv2_2 = BottleneckBlock(in_channel=256, mid_channels=64, out_channel=256) # output size 8*8, 64 channels\n",
    "        self.dropout1 = nn.Dropout(0.2)\n",
    "        self.conv3_1 = BottleneckBlock(in_channel=256, mid_channels=128, out_channel=512) # output size 8*8, 128 channels\n",
    "        self.conv3_2 = BottleneckBlock(in_channel=512, mid_channels=128, out_channel=512) # output size 8*8, 128 channels\n",
    "        self.dropout2 = nn.Dropout(0.2)\n",
    "#         self.maxpool2 = nn.MaxPool2d(2, stride=2)\n",
    "        self.conv4_1 = BottleneckBlock(in_channel=512, mid_channels=256, out_channel=1024) # output size 8*8, 256 channels\n",
    "        self.conv4_2 = BottleneckBlock(in_channel=1024, mid_channels=256, out_channel=1024) # output size 8*8, 256 channels\n",
    "        self.dropout3 = nn.Dropout(0.2)\n",
    "        self.conv5_1 = BottleneckBlock(in_channel=1024, mid_channels=512, out_channel=2048) # output size 4*4, 512 channels, down-sampled\n",
    "#         self.conv5_2 = BottleneckBlock(in_channel=2048, mid_channels=512, out_channel=2048, stride1=2, padding1=1, \n",
    "#                                  dn_sample=True, sc_stride=2) # output size 4*4, 512 channels, down-sampled\n",
    "        self.conv5_2 = BottleneckBlock(in_channel=2048, mid_channels=512, out_channel=2048) # output size 4*4, 512 channels, down-sampled\n",
    "        self.dropout4 = nn.Dropout(0.2)\n",
    "        self.maxpool2 = nn.MaxPool2d(2, stride=2)\n",
    "        self.avgpool1 = nn.AdaptiveAvgPool2d((1, 1))\n",
    "        self.fc1 = nn.Linear(1*1*2048, num_classes)\n",
    "    def forward(self, x): # input size N*3*32*32\n",
    "        x = self.bn1(self.conv1(x))\n",
    "        x = F.relu(x)\n",
    "        x = self.maxpool1(x)\n",
    "        x = self.conv2_1(x)\n",
    "        x = self.conv2_2(x)\n",
    "#         x = self.dropout1(x)\n",
    "        x = self.conv3_1(x)\n",
    "        x = self.conv3_2(x)\n",
    "#         x = self.dropout2(x)\n",
    "        x = self.conv4_1(x)\n",
    "        x = self.conv4_2(x)\n",
    "        x = self.dropout3(x)\n",
    "        x = self.conv5_1(x)\n",
    "        x = self.conv5_2(x)\n",
    "        x = self.dropout4(x)\n",
    "        x = self.avgpool1(self.maxpool2(x))\n",
    "        x = flatten(x)\n",
    "        x = self.fc1(x) # returning raw linear outputs for 100 classes\n",
    "#         x = self.fc2(x)\n",
    "        return x\n",
    "\n",
    "batch_size = 64\n",
    "loader_train = DataLoader(cifar100_train, batch_size=batch_size, num_workers=2,\n",
    "                        sampler=sampler.SubsetRandomSampler(range(NUM_TRAIN))) # 49000 train data\n",
    "\n",
    "loader_val = DataLoader(cifar100_val, batch_size=batch_size, num_workers=2,\n",
    "                      sampler=sampler.SubsetRandomSampler(range(NUM_TRAIN, 50000))) # 1000 val data\n",
    "\n",
    "loader_test = DataLoader(cifar100_test, batch_size=batch_size, num_workers=2)\n",
    "    \n",
    "model = ResNetBottleneck()\n",
    "optimizer = optim.Adam(params=model.parameters(), lr=learning_rate)\n",
    "\n",
    "\n",
    "\n",
    "\n",
    "# *****END OF YOUR CODE (DO NOT DELETE/MODIFY THIS LINE)*****\n",
    "################################################################################\n",
    "#                                 END OF YOUR CODE\n",
    "################################################################################\n",
    "\n",
    "# You should get at least 48% accuracy.\n",
    "print_every = 700\n",
    "train_part34(model, optimizer, epochs=10)\n",
    "print_every = 100"
   ]
  },
  {
   "cell_type": "markdown",
   "metadata": {
    "id": "-Uv6RsmrIH6R",
    "tags": [
     "pdf-inline"
    ]
   },
   "source": [
    "## Describe what you did (10% of Grade)\n",
    "\n",
    "In the cell below you should write an explanation of what you did, any additional features that you implemented, and/or any graphs that you made in the process of training and evaluating your network."
   ]
  },
  {
   "cell_type": "markdown",
   "metadata": {
    "id": "UIuvkDUjIH6R",
    "tags": [
     "pdf-inline"
    ]
   },
   "source": [
    "I used the bottleneck architecture for the block design (for deeper networks) to replace the original block design (for shallow networks) in ResNet. I also made the network deeper to improve its capability of feature extractions. In this sense, I built an approximate version of 50-layer ResNet with the bottleneck architecture. In addition, I used 2 dropout layers with rate 0.2 in the middle of the feature extraction network to regularize training. I also added a max pooling layer to down-sample the features from 8*8 to 4*4 instead of using the original convolution layer. I also used a larger learning rate 3e-3 to make convergence faster. The figure below shows that the validation accuracy increases and the loss decreases more stably as the bottleneck architecture with dropouts is adopted."
   ]
  },
  {
   "cell_type": "code",
   "execution_count": 44,
   "metadata": {},
   "outputs": [
    {
     "data": {
      "image/png": "[encoded data removed]",
      "text/plain": [
       "<Figure size 720x360 with 1 Axes>"
      ]
     },
     "metadata": {
      "needs_background": "light"
     },
     "output_type": "display_data"
    },
    {
     "data": {
      "image/png": "[encoded data removed]",
      "text/plain": [
       "<Figure size 720x360 with 1 Axes>"
      ]
     },
     "metadata": {
      "needs_background": "light"
     },
     "output_type": "display_data"
    }
   ],
   "source": [
    "import matplotlib.pyplot as plt\n",
    "\n",
    "# Training logs for Model 1 (ResNet with bottleneck and dropouts)\n",
    "model1_loss = [4.0120, 3.2635, 2.5610, 2.7657, 2.3400, 1.8719, 1.4254, 1.3539, 1.2968, 1.1259]\n",
    "model1_accuracy = [10.40, 18.20, 29.00, 33.70, 42.00, 43.30, 47.30, 52.20, 50.80, 54.50, 55.20]\n",
    "\n",
    "# Training logs for Model 2 (ResNet without bottleneck and dropouts)\n",
    "model2_loss = [3.2622, 2.4321, 2.6425, 1.9153, 1.7098, 2.2182, 1.1542, 1.0563, 1.3591, 1.2013]\n",
    "model2_accuracy = [22.80, 30.40, 37.70, 41.00, 46.50, 48.50, 51.10, 51.90, 52.30, 52.30, 50.70]\n",
    "\n",
    "epochs = range(1, len(model1_loss) + 1)\n",
    "\n",
    "# Plotting Loss\n",
    "plt.figure(figsize=(10, 5))\n",
    "plt.plot(epochs, model1_loss, 'r', label='ResNetBottleneck (with bottleneck and dropouts)')\n",
    "plt.plot(epochs, model2_loss, 'b', label='ResNet (without bottleneck and dropouts)')\n",
    "plt.title('Training Loss')\n",
    "plt.xlabel('Epochs')\n",
    "plt.ylabel('Loss')\n",
    "plt.legend()\n",
    "plt.grid(True)\n",
    "plt.show()\n",
    "\n",
    "epochs = range(1, len(model1_loss) + 2)\n",
    "\n",
    "# Plotting Validation Accuracy\n",
    "plt.figure(figsize=(10, 5))\n",
    "plt.plot(epochs, model1_accuracy, 'r', label='ResNetBottleneck (with bottleneck and dropouts)')\n",
    "plt.plot(epochs, model2_accuracy, 'b', label='ResNet (without bottleneck and dropouts)')\n",
    "plt.title('Validation Accuracy')\n",
    "plt.xlabel('Epochs')\n",
    "plt.ylabel('Accuracy (%)')\n",
    "plt.legend()\n",
    "plt.grid(True)\n",
    "plt.show()\n"
   ]
  },
  {
   "cell_type": "markdown",
   "metadata": {
    "id": "-YsUcgTOIH6R"
   },
   "source": [
    "## Test set -- run this only once\n",
    "\n",
    "Now that we've gotten a result we're happy with, we test our final model on the test set (which you should store in best_model). Think about how this compares to your validation set accuracy."
   ]
  },
  {
   "cell_type": "code",
   "execution_count": 45,
   "metadata": {
    "id": "YYDaRp8SIH6R"
   },
   "outputs": [
    {
     "name": "stdout",
     "output_type": "stream",
     "text": [
      "Checking accuracy on test set\n",
      "Got 5401 / 10000 correct (54.01)\n"
     ]
    },
    {
     "data": {
      "text/plain": [
       "0.5401"
      ]
     },
     "execution_count": 45,
     "metadata": {},
     "output_type": "execute_result"
    }
   ],
   "source": [
    "best_model = model\n",
    "check_accuracy_part34(loader_test, best_model)"
   ]
  },
  {
   "cell_type": "markdown",
   "metadata": {
    "id": "9Ot40rbgIH6S"
   },
   "source": [
    "The accuracy on the test set is similar to that on the validation set even though their sizes are different. This is because both sets aim at testing the performance of the model on a more general dataset. Both results show that the generalization capability of the model is satisfactory."
   ]
  }
 ],
 "metadata": {
  "accelerator": "GPU",
  "colab": {
   "collapsed_sections": [
    "jhOl4n-IIH59",
    "jOEHxEqhIH6A",
    "juGGLTtXIH6E",
    "bCszwn_4IH6F",
    "jvMOa3HdIH6F",
    "zqhz70VkIH6G",
    "f3CPXzmbIH6P"
   ],
   "gpuType": "T4",
   "provenance": []
  },
  "kernelspec": {
   "display_name": "Python 3 (ipykernel)",
   "language": "python",
   "name": "python3"
  },
  "language_info": {
   "codemirror_mode": {
    "name": "ipython",
    "version": 3
   },
   "file_extension": ".py",
   "mimetype": "text/x-python",
   "name": "python",
   "nbconvert_exporter": "python",
   "pygments_lexer": "ipython3",
   "version": "3.9.5"
  },
  "toc": {
   "nav_menu": {},
   "number_sections": true,
   "sideBar": true,
   "skip_h1_title": false,
   "toc_cell": false,
   "toc_position": {},
   "toc_section_display": "block",
   "toc_window_display": false
  },
  "varInspector": {
   "cols": {
    "lenName": 16,
    "lenType": 16,
    "lenVar": 40
   },
   "kernels_config": {
    "python": {
     "delete_cmd_postfix": "",
     "delete_cmd_prefix": "del ",
     "library": "var_list.py",
     "varRefreshCmd": "print(var_dic_list())"
    },
    "r": {
     "delete_cmd_postfix": ") ",
     "delete_cmd_prefix": "rm(",
     "library": "var_list.r",
     "varRefreshCmd": "cat(var_dic_list()) "
    }
   },
   "types_to_exclude": [
    "module",
    "function",
    "builtin_function_or_method",
    "instance",
    "_Feature"
   ],
   "window_display": false
  }
 },
 "nbformat": 4,
 "nbformat_minor": 1
}
